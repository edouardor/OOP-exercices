{
  "nbformat": 4,
  "nbformat_minor": 0,
  "metadata": {
    "colab": {
      "name": "Udemy_OOP_150_ejercicios -3.ipynb",
      "provenance": [],
      "authorship_tag": "ABX9TyOjZHZKIF5jgC9x+Mqj30MU",
      "include_colab_link": true
    },
    "kernelspec": {
      "name": "python3",
      "display_name": "Python 3"
    }
  },
  "cells": [
    {
      "cell_type": "markdown",
      "metadata": {
        "id": "view-in-github",
        "colab_type": "text"
      },
      "source": [
        "<a href=\"https://colab.research.google.com/github/edouardor/test-colab/blob/main/Udemy_OOP_150_ejercicios_3.ipynb\" target=\"_parent\"><img src=\"https://colab.research.google.com/assets/colab-badge.svg\" alt=\"Open In Colab\"/></a>"
      ]
    },
    {
      "cell_type": "markdown",
      "metadata": {
        "id": "8ggqCxFwKaLM"
      },
      "source": [
        "# Udemy 150+ Exercises - Object Oriented Programming in Python - OOP - 3\n",
        "\n",
        "\n",
        "## Sección 10:The __init__() method"
      ]
    },
    {
      "cell_type": "code",
      "metadata": {
        "colab": {
          "base_uri": "https://localhost:8080/"
        },
        "id": "S2ppo9RALYe7",
        "outputId": "7fda7d2f-6801-4293-a171-2e37754f5a37"
      },
      "source": [
        "class Laptop():\n",
        "  def __init__(self):\n",
        "    self.brand = 'brand'\n",
        "    self.model = 'model'\n",
        "    self.price = 0\n",
        "\n",
        "laptop = Laptop()\n",
        "laptop.brand = 'Acer'\n",
        "laptop.model = 'Predator'\n",
        "laptop.price = 5490\n",
        "\n",
        "print(laptop.__dict__)"
      ],
      "execution_count": 3,
      "outputs": [
        {
          "output_type": "stream",
          "text": [
            "{'brand': 'Acer', 'model': 'Predator', 'price': 5490}\n"
          ],
          "name": "stdout"
        }
      ]
    },
    {
      "cell_type": "code",
      "metadata": {
        "colab": {
          "base_uri": "https://localhost:8080/"
        },
        "id": "YTfwA2uEMNjb",
        "outputId": "a1549ddd-5e03-41f5-fe6f-b2e50ee80407"
      },
      "source": [
        "class Laptop:\n",
        " \n",
        "    def __init__(self, brand, model, price):\n",
        "        self.brand = brand\n",
        "        self.model = model\n",
        "        self.price = price\n",
        " \n",
        " \n",
        "laptop = Laptop('Acer', 'Predator', 5490)\n",
        "print(laptop.__dict__)"
      ],
      "execution_count": 4,
      "outputs": [
        {
          "output_type": "stream",
          "text": [
            "{'brand': 'Acer', 'model': 'Predator', 'price': 5490}\n"
          ],
          "name": "stdout"
        }
      ]
    },
    {
      "cell_type": "code",
      "metadata": {
        "colab": {
          "base_uri": "https://localhost:8080/"
        },
        "id": "zVfTcpK9Sz6L",
        "outputId": "35260511-68b3-4241-e51d-885e61bb5f11"
      },
      "source": [
        "class Laptop:\n",
        " \n",
        "    def __init__(self, brand, model, price):\n",
        "        self.brand = brand\n",
        "        self.model = model\n",
        "        self.price = price\n",
        "\n",
        "    def display_instance_attrs(self):\n",
        "      for attr in self.__dict__:\n",
        "        print(attr)    \n",
        " \n",
        " \n",
        "laptop = Laptop('Dell', 'Inspiron', 3699)\n",
        "laptop.display_instance_attrs()"
      ],
      "execution_count": 2,
      "outputs": [
        {
          "output_type": "stream",
          "text": [
            "brand\n",
            "model\n",
            "price\n"
          ],
          "name": "stdout"
        }
      ]
    },
    {
      "cell_type": "code",
      "metadata": {
        "colab": {
          "base_uri": "https://localhost:8080/"
        },
        "id": "HPzCmLMwUe4B",
        "outputId": "31b55d42-b8c9-4837-c8d9-5b9b76cdf869"
      },
      "source": [
        "class Laptop:\n",
        " \n",
        "    def __init__(self, brand, model, price):\n",
        "        self.brand = brand\n",
        "        self.model = model\n",
        "        self.price = price\n",
        "\n",
        "    def display_instance_attrs_with_values(self):\n",
        "      for attr, value in self.__dict__.items():\n",
        "        print(f'{attr} -> {value}') \n",
        "\n",
        "laptop = Laptop('Dell', 'Inspiron', 3699)\n",
        "laptop.display_instance_attrs_with_values()        "
      ],
      "execution_count": 7,
      "outputs": [
        {
          "output_type": "stream",
          "text": [
            "brand -> Dell\n",
            "model -> Inspiron\n",
            "price -> 3699\n"
          ],
          "name": "stdout"
        }
      ]
    },
    {
      "cell_type": "code",
      "metadata": {
        "colab": {
          "base_uri": "https://localhost:8080/"
        },
        "id": "ESlGaLp_WEBy",
        "outputId": "aa8a44cf-7b2b-4652-d72e-3f556a4fb61f"
      },
      "source": [
        "class Vector:\n",
        "\n",
        "  def __init__(self, components):\n",
        "    self.components = components\n",
        "\n",
        "v1 = Vector((1,2))\n",
        "v2 = Vector((4,5,2))\n",
        "\n",
        "print(f'v1 -> {v1.components}')\n",
        "print(f'v2 -> {v2.components}')"
      ],
      "execution_count": 13,
      "outputs": [
        {
          "output_type": "stream",
          "text": [
            "v1 -> (1, 2)\n",
            "v2 -> (4, 5, 2)\n"
          ],
          "name": "stdout"
        }
      ]
    },
    {
      "cell_type": "code",
      "metadata": {
        "colab": {
          "base_uri": "https://localhost:8080/"
        },
        "id": "5c2ZQwewYZIw",
        "outputId": "7ad0e574-9dd2-4fd3-bf50-3a9df1028ebf"
      },
      "source": [
        "class Vector:\n",
        " \n",
        "    def __init__(self, *components):\n",
        "        self.components = components\n",
        " \n",
        " \n",
        "v1 = Vector(1, 2)\n",
        "v2 = Vector(4, 5, 2)\n",
        " \n",
        "print(f'v1 -> {v1.components}')\n",
        "print(f'v2 -> {v2.components}')"
      ],
      "execution_count": 14,
      "outputs": [
        {
          "output_type": "stream",
          "text": [
            "v1 -> (1, 2)\n",
            "v2 -> (4, 5, 2)\n"
          ],
          "name": "stdout"
        }
      ]
    },
    {
      "cell_type": "code",
      "metadata": {
        "colab": {
          "base_uri": "https://localhost:8080/"
        },
        "id": "S2JtYmyme97r",
        "outputId": "2ba33309-a7a0-41b9-b900-2e2162e3ec1f"
      },
      "source": [
        "class Bucket:\n",
        "\n",
        "  def __init__(self,**kwargs):\n",
        "    for key, value in kwargs.items():\n",
        "      setattr(self, key, value)\n",
        "  \n",
        "      \n",
        "\n",
        "bucket = Bucket(apple=3.5, milk = 2.5, juice = 4.9, water = 2.5)\n",
        "print(bucket.__dict__)"
      ],
      "execution_count": 24,
      "outputs": [
        {
          "output_type": "stream",
          "text": [
            "{'apple': 3.5, 'milk': 2.5, 'juice': 4.9, 'water': 2.5}\n"
          ],
          "name": "stdout"
        }
      ]
    },
    {
      "cell_type": "code",
      "metadata": {
        "colab": {
          "base_uri": "https://localhost:8080/"
        },
        "id": "8ciQmtuom5Gl",
        "outputId": "b7a93bdf-41e2-46a0-8de6-0365d80781e9"
      },
      "source": [
        "class Car:\n",
        "\n",
        "  def __init__(self, brand, model, price, type_of_car = 'sedan'):\n",
        "    self.brand= brand\n",
        "    self.model = model\n",
        "    self.price = price\n",
        "    self.type_of_car = type_of_car\n",
        "\n",
        "car = Car('Opel','Insignia',115000)  \n",
        "print(car.__dict__)  "
      ],
      "execution_count": 27,
      "outputs": [
        {
          "output_type": "stream",
          "text": [
            "{'brand': 'Opel', 'model': 'Insignia', 'price': 115000, 'type_of_car': 'sedan'}\n"
          ],
          "name": "stdout"
        }
      ]
    },
    {
      "cell_type": "code",
      "metadata": {
        "colab": {
          "base_uri": "https://localhost:8080/"
        },
        "id": "XZN9Tca_oArE",
        "outputId": "5c598d7a-06d3-4ed4-901e-a23805f45840"
      },
      "source": [
        "class Car:\n",
        " \n",
        "    def __init__(self, brand, model, price, type_of_car=None):\n",
        "        self.brand = brand\n",
        "        self.model = model\n",
        "        self.price = price\n",
        "        self.type_of_car = type_of_car if type_of_car else 'sedan'\n",
        " \n",
        " \n",
        "car = Car('Opel', 'Insignia', 115000)\n",
        "print(car.__dict__)"
      ],
      "execution_count": 28,
      "outputs": [
        {
          "output_type": "stream",
          "text": [
            "{'brand': 'Opel', 'model': 'Insignia', 'price': 115000, 'type_of_car': 'sedan'}\n"
          ],
          "name": "stdout"
        }
      ]
    },
    {
      "cell_type": "code",
      "metadata": {
        "colab": {
          "base_uri": "https://localhost:8080/"
        },
        "id": "ODBCH0eXoahU",
        "outputId": "514c7425-414f-4c1e-e540-0edff0f95b85"
      },
      "source": [
        "car = Car('BMW','X3',200000,'SUV')\n",
        "print(car.__dict__)"
      ],
      "execution_count": 29,
      "outputs": [
        {
          "output_type": "stream",
          "text": [
            "{'brand': 'BMW', 'model': 'X3', 'price': 200000, 'type_of_car': 'SUV'}\n"
          ],
          "name": "stdout"
        }
      ]
    },
    {
      "cell_type": "code",
      "metadata": {
        "colab": {
          "base_uri": "https://localhost:8080/",
          "height": 351
        },
        "id": "IbvkzUG54dqq",
        "outputId": "83858fba-63c3-4553-d1bf-384b4726cfb7"
      },
      "source": [
        "class Laptop:\n",
        "\n",
        "  def __init__(self, brand, model, price):\n",
        "        self.brand = brand\n",
        "        self.model = model\n",
        "        if not isinstance(price, (int, float)) or price <0:\n",
        "          raise TypeError('The price attribute must be a positive int or float')\n",
        "        else:\n",
        "          self.price = price\n",
        "        \n",
        "            \n",
        "\n",
        "laptop = Laptop('Acer','Predator',-5490)\n",
        "print(laptop.__dict__)\n"
      ],
      "execution_count": 43,
      "outputs": [
        {
          "output_type": "error",
          "ename": "TypeError",
          "evalue": "ignored",
          "traceback": [
            "\u001b[0;31m---------------------------------------------------------------------------\u001b[0m",
            "\u001b[0;31mTypeError\u001b[0m                                 Traceback (most recent call last)",
            "\u001b[0;32m<ipython-input-43-c38f7191fe23>\u001b[0m in \u001b[0;36m<module>\u001b[0;34m()\u001b[0m\n\u001b[1;32m     11\u001b[0m \u001b[0;34m\u001b[0m\u001b[0m\n\u001b[1;32m     12\u001b[0m \u001b[0;34m\u001b[0m\u001b[0m\n\u001b[0;32m---> 13\u001b[0;31m \u001b[0mlaptop\u001b[0m \u001b[0;34m=\u001b[0m \u001b[0mLaptop\u001b[0m\u001b[0;34m(\u001b[0m\u001b[0;34m'Acer'\u001b[0m\u001b[0;34m,\u001b[0m\u001b[0;34m'Predator'\u001b[0m\u001b[0;34m,\u001b[0m\u001b[0;34m-\u001b[0m\u001b[0;36m5490\u001b[0m\u001b[0;34m)\u001b[0m\u001b[0;34m\u001b[0m\u001b[0;34m\u001b[0m\u001b[0m\n\u001b[0m\u001b[1;32m     14\u001b[0m \u001b[0mprint\u001b[0m\u001b[0;34m(\u001b[0m\u001b[0mlaptop\u001b[0m\u001b[0;34m.\u001b[0m\u001b[0m__dict__\u001b[0m\u001b[0;34m)\u001b[0m\u001b[0;34m\u001b[0m\u001b[0;34m\u001b[0m\u001b[0m\n",
            "\u001b[0;32m<ipython-input-43-c38f7191fe23>\u001b[0m in \u001b[0;36m__init__\u001b[0;34m(self, brand, model, price)\u001b[0m\n\u001b[1;32m      5\u001b[0m         \u001b[0mself\u001b[0m\u001b[0;34m.\u001b[0m\u001b[0mmodel\u001b[0m \u001b[0;34m=\u001b[0m \u001b[0mmodel\u001b[0m\u001b[0;34m\u001b[0m\u001b[0;34m\u001b[0m\u001b[0m\n\u001b[1;32m      6\u001b[0m         \u001b[0;32mif\u001b[0m \u001b[0;32mnot\u001b[0m \u001b[0misinstance\u001b[0m\u001b[0;34m(\u001b[0m\u001b[0mprice\u001b[0m\u001b[0;34m,\u001b[0m \u001b[0;34m(\u001b[0m\u001b[0mint\u001b[0m\u001b[0;34m,\u001b[0m \u001b[0mfloat\u001b[0m\u001b[0;34m)\u001b[0m\u001b[0;34m)\u001b[0m \u001b[0;32mor\u001b[0m \u001b[0mprice\u001b[0m \u001b[0;34m<\u001b[0m\u001b[0;36m0\u001b[0m\u001b[0;34m:\u001b[0m\u001b[0;34m\u001b[0m\u001b[0;34m\u001b[0m\u001b[0m\n\u001b[0;32m----> 7\u001b[0;31m           \u001b[0;32mraise\u001b[0m \u001b[0mTypeError\u001b[0m\u001b[0;34m(\u001b[0m\u001b[0;34m'The price attribute must be a positive int or float'\u001b[0m\u001b[0;34m)\u001b[0m\u001b[0;34m\u001b[0m\u001b[0;34m\u001b[0m\u001b[0m\n\u001b[0m\u001b[1;32m      8\u001b[0m         \u001b[0;32melse\u001b[0m\u001b[0;34m:\u001b[0m\u001b[0;34m\u001b[0m\u001b[0;34m\u001b[0m\u001b[0m\n\u001b[1;32m      9\u001b[0m           \u001b[0mself\u001b[0m\u001b[0;34m.\u001b[0m\u001b[0mprice\u001b[0m \u001b[0;34m=\u001b[0m \u001b[0mprice\u001b[0m\u001b[0;34m\u001b[0m\u001b[0;34m\u001b[0m\u001b[0m\n",
            "\u001b[0;31mTypeError\u001b[0m: The price attribute must be a positive int or float"
          ]
        }
      ]
    },
    {
      "cell_type": "code",
      "metadata": {
        "colab": {
          "base_uri": "https://localhost:8080/"
        },
        "id": "YUw9sDkS6FWf",
        "outputId": "c3216449-624a-4dd9-8ee5-6ce3cf35418d"
      },
      "source": [
        "class Laptop:\n",
        "\n",
        "  def __init__(self, brand, model, price):\n",
        "        self.brand = brand\n",
        "        self.model = model\n",
        "        try:\n",
        "          price >0\n",
        "          self.price = price\n",
        "        except:\n",
        "          print('The price attribute must be a positive int or float')\n",
        "      \n",
        "          \n",
        "        \n",
        "            \n",
        "\n",
        "laptop = Laptop('Acer','Predator','5490')\n"
      ],
      "execution_count": 2,
      "outputs": [
        {
          "output_type": "stream",
          "text": [
            "The price attribute must be a positive int or float\n",
            "{'brand': 'Acer', 'model': 'Predator'}\n"
          ],
          "name": "stdout"
        }
      ]
    },
    {
      "cell_type": "code",
      "metadata": {
        "colab": {
          "base_uri": "https://localhost:8080/"
        },
        "id": "r9xav_8p6aHj",
        "outputId": "2720bd30-78f8-40bd-a7b4-f3515a00bb12"
      },
      "source": [
        "class Laptop:\n",
        " \n",
        "    def __init__(self, brand, model, price):\n",
        "        self.brand = brand\n",
        "        self.model = model\n",
        "        if isinstance(price, (int, float)) and price > 0:\n",
        "            self.price = price\n",
        "        else:\n",
        "            raise TypeError('The price attribute must be a positive int or '\n",
        "                'float.')\n",
        " \n",
        " \n",
        "try:\n",
        "    laptop = Laptop('Acer', 'Predator', '5900')\n",
        "except TypeError as error:\n",
        "    print(error)"
      ],
      "execution_count": 3,
      "outputs": [
        {
          "output_type": "stream",
          "text": [
            "The price attribute must be a positive int or float.\n"
          ],
          "name": "stdout"
        }
      ]
    },
    {
      "cell_type": "markdown",
      "metadata": {
        "id": "mg5Ms9mn8dYn"
      },
      "source": [
        "## Sección 11:Visibility of variables"
      ]
    },
    {
      "cell_type": "code",
      "metadata": {
        "colab": {
          "base_uri": "https://localhost:8080/"
        },
        "id": "Ro4Tng6R8wKU",
        "outputId": "a368f3ad-d036-4663-ed6a-705bc753e46e"
      },
      "source": [
        "class Laptop:\n",
        "\n",
        "  def __init__(self, brand, model, price):\n",
        "        self.brand = brand\n",
        "        self._model = model\n",
        "        self.__price = price\n",
        "\n",
        "laptop = Laptop('Acer','Predator',5490)\n",
        "print(laptop.__dict__)       "
      ],
      "execution_count": 4,
      "outputs": [
        {
          "output_type": "stream",
          "text": [
            "{'brand': 'Acer', '_model': 'Predator', '_Laptop__price': 5490}\n"
          ],
          "name": "stdout"
        }
      ]
    },
    {
      "cell_type": "code",
      "metadata": {
        "colab": {
          "base_uri": "https://localhost:8080/"
        },
        "id": "ZMIyKCQdIeQk",
        "outputId": "feea5775-651f-4b6c-b598-09b1c462f094"
      },
      "source": [
        "for attr, value in laptop.__dict__.items():\n",
        "    _index = attr[::-1].find('_')\n",
        "    if _index == -1:\n",
        "      _index = 0\n",
        "    short_attr = attr[-_index:]\n",
        "    print(f'{short_attr} -> {value}') "
      ],
      "execution_count": 14,
      "outputs": [
        {
          "output_type": "stream",
          "text": [
            "brand -> Acer\n",
            "model -> Predator\n",
            "price -> 5490\n"
          ],
          "name": "stdout"
        }
      ]
    },
    {
      "cell_type": "code",
      "metadata": {
        "colab": {
          "base_uri": "https://localhost:8080/"
        },
        "id": "Ag0xn0hvOQXQ",
        "outputId": "69f69c19-e1cb-43ad-90a6-897d79f92867"
      },
      "source": [
        "class Laptop:\n",
        " \n",
        "    def __init__(self, brand, model, code, price, margin):\n",
        "        self.brand = brand\n",
        "        self._model = model\n",
        "        self._code = code\n",
        "        self.__price = price\n",
        "        self.__margin = margin\n",
        " \n",
        "    def display_private_attrs(self):\n",
        "        for attr in self.__dict__:\n",
        "            # private attribute begins with _Laptop__\n",
        "            if attr.startswith(f'_{self.__class__.__name__}__'):\n",
        "                print(attr)    \n",
        " \n",
        " \n",
        "laptop = Laptop('Acer', 'Predator', 'AC-100', 5490, 0.2)\n",
        "laptop.display_private_attrs()"
      ],
      "execution_count": 18,
      "outputs": [
        {
          "output_type": "stream",
          "text": [
            "_Laptop__price\n",
            "_Laptop__margin\n"
          ],
          "name": "stdout"
        }
      ]
    },
    {
      "cell_type": "code",
      "metadata": {
        "colab": {
          "base_uri": "https://localhost:8080/"
        },
        "id": "KQ1_V1hfQzOa",
        "outputId": "ea1eb98f-b0d8-4230-b9e5-2403def4ad4d"
      },
      "source": [
        "class Laptop:\n",
        " \n",
        "    def __init__(self, brand, model, code, price, margin):\n",
        "        self.brand = brand\n",
        "        self._model = model\n",
        "        self._code = code\n",
        "        self.__price = price\n",
        "        self.__margin = margin\n",
        "\n",
        "    def display_protected_attrs(self):\n",
        "      for attr in self.__dict__:\n",
        "        if attr.startswith('_') and not attr.startswith(f'_{self.__class__.__name__}__'):\n",
        "          print(attr)\n",
        "\n",
        "laptop = Laptop('Acer', 'Predator', 'AC-100', 5490, 0.2)\n",
        "laptop.display_protected_attrs()"
      ],
      "execution_count": 23,
      "outputs": [
        {
          "output_type": "stream",
          "text": [
            "_model\n",
            "_code\n"
          ],
          "name": "stdout"
        }
      ]
    },
    {
      "cell_type": "markdown",
      "metadata": {
        "id": "S4gmyuIaewal"
      },
      "source": [
        "## Sección 12:Encapsulation"
      ]
    },
    {
      "cell_type": "code",
      "metadata": {
        "colab": {
          "base_uri": "https://localhost:8080/"
        },
        "id": "H1ZM0Gvwezff",
        "outputId": "4b57fbc0-a6bc-49ed-870f-0af18d827c1a"
      },
      "source": [
        "class Laptop:\n",
        "\n",
        "  def __init__(self,price):\n",
        "    self._price = price\n",
        "\n",
        "  def get_price(self):\n",
        "    return self._price  \n",
        "\n",
        "  def set_price(self,price):\n",
        "    self._price = price  \n",
        "\n",
        "laptop = Laptop(3499)    \n",
        "print(laptop.get_price())\n",
        "laptop.set_price(3999)\n",
        "print(laptop.get_price())"
      ],
      "execution_count": 28,
      "outputs": [
        {
          "output_type": "stream",
          "text": [
            "3499\n",
            "3999\n"
          ],
          "name": "stdout"
        }
      ]
    },
    {
      "cell_type": "code",
      "metadata": {
        "colab": {
          "base_uri": "https://localhost:8080/"
        },
        "id": "SfCqcPx5Sv03",
        "outputId": "6a5de7cf-42f9-4a01-cc0c-a06df48fc33b"
      },
      "source": [
        "class Laptop:\n",
        "\n",
        "  def __init__(self,price):\n",
        "    self._price = price\n",
        "\n",
        "  def get_price(self):\n",
        "    return self._price  \n",
        "\n",
        "  def set_price(self,price):\n",
        "    if not isinstance(price,(int,float)):\n",
        "      raise TypeError('The price attribute must be an int or float type')\n",
        "    if price <=0:\n",
        "        raise ValueError('The price attribute must be a positive int or float type') \n",
        "  \n",
        "    self._price = price\n",
        "\n",
        "laptop = Laptop(3499)\n",
        "try:\n",
        "   laptop.set_price('-3000')\n",
        "except  TypeError as error:\n",
        "   print(error)\n"
      ],
      "execution_count": 11,
      "outputs": [
        {
          "output_type": "stream",
          "text": [
            "The price attribute must be an int or float type\n"
          ],
          "name": "stdout"
        }
      ]
    },
    {
      "cell_type": "code",
      "metadata": {
        "colab": {
          "base_uri": "https://localhost:8080/"
        },
        "id": "K_Tg9Dl6aNtY",
        "outputId": "aa7358ce-6d9f-411a-fcb7-38ebd88eb1c4"
      },
      "source": [
        "class Laptop:\n",
        " \n",
        "    def __init__(self, price):\n",
        "        self._price = price\n",
        " \n",
        "    def get_price(self):\n",
        "        return self._price\n",
        " \n",
        "    def set_price(self, value):\n",
        "        \n",
        "        if not isinstance(value, (int, float)):\n",
        "            raise TypeError('The price attribute must be an int or float type.')\n",
        "        \n",
        "        if not value > 0:\n",
        "            raise ValueError('The price attribute must be a positive int or '\n",
        "                'float value.')\n",
        "        \n",
        "        self._price = value\n",
        " \n",
        "            \n",
        "laptop = Laptop(3499)\n",
        "try:\n",
        "    laptop.set_price(-3000)\n",
        "except ValueError as error:\n",
        "    print(error)"
      ],
      "execution_count": 12,
      "outputs": [
        {
          "output_type": "stream",
          "text": [
            "The price attribute must be a positive int or float value.\n"
          ],
          "name": "stdout"
        }
      ]
    },
    {
      "cell_type": "code",
      "metadata": {
        "colab": {
          "base_uri": "https://localhost:8080/"
        },
        "id": "gHdbssvIdDTj",
        "outputId": "a99b23bd-eb93-465f-e141-74312f056253"
      },
      "source": [
        "class Laptop:\n",
        "\n",
        "    def __init__(self, price):\n",
        "        if not isinstance(price, (int, float)):\n",
        "            raise TypeError('The price attribute must be an int or float type.')\n",
        "        \n",
        "        if not price > 0:\n",
        "            raise ValueError('The price attribute must be a positive int or '\n",
        "                'float value.')\n",
        "        self._price = price\n",
        "\n",
        "    def get_price(self):\n",
        "        return self._price\n",
        "\n",
        "    def set_price(self, value):\n",
        "        \n",
        "        if not isinstance(value, (int, float)):\n",
        "            raise TypeError('The price attribute must be an int or float type.')\n",
        "        \n",
        "        if not value > 0:\n",
        "            raise ValueError('The price attribute must be a positive int or '\n",
        "                'float value.')\n",
        "        \n",
        "        self._price = value\n",
        "try:        \n",
        "    laptop = Laptop(-3499)  \n",
        "except ValueError as error:\n",
        "    print(error)"
      ],
      "execution_count": 13,
      "outputs": [
        {
          "output_type": "stream",
          "text": [
            "The price attribute must be a positive int or float value.\n"
          ],
          "name": "stdout"
        }
      ]
    },
    {
      "cell_type": "markdown",
      "metadata": {
        "id": "CICxI7mArh7o"
      },
      "source": [
        "## Property\n",
        "\n",
        "if there is no set method defined, we cannot change the property first_name (read-only property), but we can access it as an attribute (without ())"
      ]
    },
    {
      "cell_type": "code",
      "metadata": {
        "colab": {
          "base_uri": "https://localhost:8080/"
        },
        "id": "tIRgqNuelpel",
        "outputId": "10eb531b-f40c-44e1-e070-36178b095174"
      },
      "source": [
        "class Person:\n",
        "  def __init__(self,first_name):\n",
        "    self._first_name = first_name\n",
        "\n",
        "  \n",
        "  def get_first_name(self):\n",
        "    return self._first_name\n",
        "\n",
        "  first_name = property(fget=get_first_name)    \n",
        "\n",
        "    \n",
        "person = Person('John')\n",
        "print(person.first_name)"
      ],
      "execution_count": 23,
      "outputs": [
        {
          "output_type": "stream",
          "text": [
            "John\n"
          ],
          "name": "stdout"
        }
      ]
    },
    {
      "cell_type": "code",
      "metadata": {
        "colab": {
          "base_uri": "https://localhost:8080/",
          "height": 35
        },
        "id": "ji6sDimqq8pN",
        "outputId": "1da5c124-a236-4c3f-8902-07075691bfc0"
      },
      "source": [
        "person._first_name"
      ],
      "execution_count": 24,
      "outputs": [
        {
          "output_type": "execute_result",
          "data": {
            "application/vnd.google.colaboratory.intrinsic+json": {
              "type": "string"
            },
            "text/plain": [
              "'John'"
            ]
          },
          "metadata": {
            "tags": []
          },
          "execution_count": 24
        }
      ]
    },
    {
      "cell_type": "code",
      "metadata": {
        "colab": {
          "base_uri": "https://localhost:8080/",
          "height": 164
        },
        "id": "zPPGb7hmrHt-",
        "outputId": "eabbc04f-162d-4b5d-c26e-9799d789c319"
      },
      "source": [
        "person.first_name = 'Paul'"
      ],
      "execution_count": 25,
      "outputs": [
        {
          "output_type": "error",
          "ename": "AttributeError",
          "evalue": "ignored",
          "traceback": [
            "\u001b[0;31m---------------------------------------------------------------------------\u001b[0m",
            "\u001b[0;31mAttributeError\u001b[0m                            Traceback (most recent call last)",
            "\u001b[0;32m<ipython-input-25-52c537c042cb>\u001b[0m in \u001b[0;36m<module>\u001b[0;34m()\u001b[0m\n\u001b[0;32m----> 1\u001b[0;31m \u001b[0mperson\u001b[0m\u001b[0;34m.\u001b[0m\u001b[0mfirst_name\u001b[0m \u001b[0;34m=\u001b[0m \u001b[0;34m'Paul'\u001b[0m\u001b[0;34m\u001b[0m\u001b[0;34m\u001b[0m\u001b[0m\n\u001b[0m",
            "\u001b[0;31mAttributeError\u001b[0m: can't set attribute"
          ]
        }
      ]
    },
    {
      "cell_type": "code",
      "metadata": {
        "colab": {
          "base_uri": "https://localhost:8080/"
        },
        "id": "2omTl9fsrOqd",
        "outputId": "f3fd028d-8e80-489a-d2cf-7c9857b4ff72"
      },
      "source": [
        "person._first_name = 'Paul'\n",
        "print(person.first_name)"
      ],
      "execution_count": 27,
      "outputs": [
        {
          "output_type": "stream",
          "text": [
            "Paul\n"
          ],
          "name": "stdout"
        }
      ]
    },
    {
      "cell_type": "code",
      "metadata": {
        "colab": {
          "base_uri": "https://localhost:8080/"
        },
        "id": "I15UqcBj7weV",
        "outputId": "59867afa-1829-4b46-b497-741a11c2e586"
      },
      "source": [
        "class Person:\n",
        "  def __init__(self,first_name, last_name):\n",
        "    self._first_name = first_name\n",
        "    self._last_name = last_name\n",
        "\n",
        "  \n",
        "  def get_first_name(self):\n",
        "    return self._first_name\n",
        "\n",
        "  def get_last_name(self):\n",
        "    return self._last_name  \n",
        "\n",
        "  first_name = property(fget=get_first_name)\n",
        "  last_name = property(fget= get_last_name)\n",
        "\n",
        "person = Person('John','Dow')\n",
        "print(person.first_name)\n",
        "print(person.last_name)"
      ],
      "execution_count": 32,
      "outputs": [
        {
          "output_type": "stream",
          "text": [
            "John\n",
            "Dow\n"
          ],
          "name": "stdout"
        }
      ]
    },
    {
      "cell_type": "code",
      "metadata": {
        "colab": {
          "base_uri": "https://localhost:8080/"
        },
        "id": "8xv8R5V18hEx",
        "outputId": "914b8bed-19b4-4896-e5cf-e34d7502c4dd"
      },
      "source": [
        "class Person:\n",
        "  def __init__(self,first_name):\n",
        "    self._first_name = first_name\n",
        "\n",
        "  \n",
        "  def get_first_name(self):\n",
        "    return self._first_name\n",
        "\n",
        "  def set_first_name(self,new_name):\n",
        "    self._first_name = new_name\n",
        "\n",
        "\n",
        "  first_name = property(fget=get_first_name, fset=set_first_name)    \n",
        "\n",
        "    \n",
        "person = Person('John')\n",
        "person.set_first_name('Mike')\n",
        "print(person.first_name)"
      ],
      "execution_count": 35,
      "outputs": [
        {
          "output_type": "stream",
          "text": [
            "Mike\n"
          ],
          "name": "stdout"
        }
      ]
    },
    {
      "cell_type": "code",
      "metadata": {
        "colab": {
          "base_uri": "https://localhost:8080/"
        },
        "id": "DHH621DR_oUb",
        "outputId": "510e74fc-0394-4b71-ef82-c422b5ce7e7d"
      },
      "source": [
        "class Person:\n",
        "  def __init__(self,first_name, last_name):\n",
        "    self._first_name = first_name\n",
        "    self._last_name = last_name\n",
        " \n",
        "  def get_first_name(self):\n",
        "    return self._first_name\n",
        "\n",
        "  def get_last_name(self):\n",
        "    return self._last_name  \n",
        "\n",
        "  def set_first_name(self,new_name):\n",
        "    self._first_name = new_name\n",
        "  \n",
        "  def set_last_name(self,new_name):\n",
        "    self._last_name = new_name\n",
        "\n",
        "  first_name = property(fget=get_first_name,fset=set_first_name)\n",
        "  last_name = property(fget= get_last_name, fset=set_last_name)\n",
        "\n",
        "person = Person('John','Dow')\n",
        "print(person.first_name)\n",
        "print(person.last_name)\n",
        "person.first_name = 'Tom'\n",
        "person.last_name = 'Smith'\n",
        "\n",
        "print(person.__dict__)"
      ],
      "execution_count": 38,
      "outputs": [
        {
          "output_type": "stream",
          "text": [
            "John\n",
            "Dow\n",
            "{'_first_name': 'Tom', '_last_name': 'Smith'}\n"
          ],
          "name": "stdout"
        }
      ]
    },
    {
      "cell_type": "code",
      "metadata": {
        "colab": {
          "base_uri": "https://localhost:8080/"
        },
        "id": "zIrP17qhH4cr",
        "outputId": "9302b89b-5ef6-4e0c-8af0-99e6b8fc7cb0"
      },
      "source": [
        "class Person:\n",
        "  def __init__(self,first_name):\n",
        "    self._first_name = first_name\n",
        "\n",
        "  \n",
        "  def get_first_name(self):\n",
        "    return self._first_name\n",
        "\n",
        "  def set_first_name(self,new_name):\n",
        "    self._first_name = new_name\n",
        "\n",
        "  def del_first_name(self):\n",
        "    del self._first_name \n",
        "\n",
        "\n",
        "  first_name = property(fget=get_first_name, fset=set_first_name, fdel=del_first_name) \n",
        "\n",
        "person = Person('Tom')\n",
        "person.del_first_name()\n",
        "print(person.__dict__)"
      ],
      "execution_count": 45,
      "outputs": [
        {
          "output_type": "stream",
          "text": [
            "{}\n"
          ],
          "name": "stdout"
        }
      ]
    },
    {
      "cell_type": "code",
      "metadata": {
        "colab": {
          "base_uri": "https://localhost:8080/"
        },
        "id": "ihN5beaMDo3-",
        "outputId": "fdb1d7bd-1de7-47bc-9ca9-e3471f154c93"
      },
      "source": [
        "class Pet:\n",
        "  def __init__(self,name):\n",
        "    self._name = name\n",
        "\n",
        "  @property \n",
        "  def name(self):\n",
        "    return self._name \n",
        "\n",
        "pet = Pet('Max')\n",
        "print(pet.__dict__)\n"
      ],
      "execution_count": 6,
      "outputs": [
        {
          "output_type": "stream",
          "text": [
            "{'_name': 'Max'}\n"
          ],
          "name": "stdout"
        }
      ]
    },
    {
      "cell_type": "code",
      "metadata": {
        "colab": {
          "base_uri": "https://localhost:8080/"
        },
        "id": "-NLY0TbKFH9o",
        "outputId": "3c7f5ec4-53f2-40d7-82ec-0e4715ace136"
      },
      "source": [
        "print(pet.name)"
      ],
      "execution_count": 7,
      "outputs": [
        {
          "output_type": "stream",
          "text": [
            "Max\n"
          ],
          "name": "stdout"
        }
      ]
    },
    {
      "cell_type": "markdown",
      "metadata": {
        "id": "F11a-o-6Gxui"
      },
      "source": [
        "the attribute is protected- as it is read only, it can't be changed"
      ]
    },
    {
      "cell_type": "code",
      "metadata": {
        "colab": {
          "base_uri": "https://localhost:8080/",
          "height": 164
        },
        "id": "bj_e-0ETGnhJ",
        "outputId": "1fa3864b-ceaf-4abd-8383-610a4d2c0c3b"
      },
      "source": [
        "pet.name = 'Borus'"
      ],
      "execution_count": 8,
      "outputs": [
        {
          "output_type": "error",
          "ename": "AttributeError",
          "evalue": "ignored",
          "traceback": [
            "\u001b[0;31m---------------------------------------------------------------------------\u001b[0m",
            "\u001b[0;31mAttributeError\u001b[0m                            Traceback (most recent call last)",
            "\u001b[0;32m<ipython-input-8-b722e9af1c68>\u001b[0m in \u001b[0;36m<module>\u001b[0;34m()\u001b[0m\n\u001b[0;32m----> 1\u001b[0;31m \u001b[0mpet\u001b[0m\u001b[0;34m.\u001b[0m\u001b[0mname\u001b[0m \u001b[0;34m=\u001b[0m \u001b[0;34m'Borus'\u001b[0m\u001b[0;34m\u001b[0m\u001b[0;34m\u001b[0m\u001b[0m\n\u001b[0m",
            "\u001b[0;31mAttributeError\u001b[0m: can't set attribute"
          ]
        }
      ]
    },
    {
      "cell_type": "code",
      "metadata": {
        "colab": {
          "base_uri": "https://localhost:8080/"
        },
        "id": "ZGSPjcWWHXPL",
        "outputId": "18007274-dbb8-432c-84d2-f4cc1842aa0c"
      },
      "source": [
        "class Pet:\n",
        "  def __init__(self, name, age):\n",
        "    self._name = name\n",
        "    self._age = age\n",
        "\n",
        "  @property\n",
        "  def name(self):\n",
        "    return self._name\n",
        "\n",
        "  @property\n",
        "  def age(self):\n",
        "    return self._age\n",
        "\n",
        "pet = Pet('Max',5)\n",
        "print(pet.__dict__)    \n"
      ],
      "execution_count": 9,
      "outputs": [
        {
          "output_type": "stream",
          "text": [
            "{'_name': 'Max', '_age': 5}\n"
          ],
          "name": "stdout"
        }
      ]
    },
    {
      "cell_type": "code",
      "metadata": {
        "colab": {
          "base_uri": "https://localhost:8080/"
        },
        "id": "KpCA1ANyI2CM",
        "outputId": "f6d7b31e-a229-4e3c-bb45-be3abc68beb7"
      },
      "source": [
        "class Pet:\n",
        "  def __init__(self,name):\n",
        "    self._name = name\n",
        "\n",
        "  @property \n",
        "  def name(self):\n",
        "    return self._name\n",
        "\n",
        "  @name.setter\n",
        "  def name(self,new_name):\n",
        "    self._name = new_name   \n",
        "\n",
        "pet = Pet('Max')\n",
        "pet.name = 'Oscar'\n",
        "print(pet.__dict__)"
      ],
      "execution_count": 10,
      "outputs": [
        {
          "output_type": "stream",
          "text": [
            "{'_name': 'Oscar'}\n"
          ],
          "name": "stdout"
        }
      ]
    }
  ]
}