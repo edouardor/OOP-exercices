{
  "nbformat": 4,
  "nbformat_minor": 0,
  "metadata": {
    "colab": {
      "name": "Udemy_OOP_150_ejercicios -4",
      "provenance": [],
      "authorship_tag": "ABX9TyNAZRKCZPC12xqTJIw4wzb4",
      "include_colab_link": true
    },
    "kernelspec": {
      "name": "python3",
      "display_name": "Python 3"
    }
  },
  "cells": [
    {
      "cell_type": "markdown",
      "metadata": {
        "id": "view-in-github",
        "colab_type": "text"
      },
      "source": [
        "<a href=\"https://colab.research.google.com/github/edouardor/test-colab/blob/main/Udemy_OOP_150_ejercicios_4.ipynb\" target=\"_parent\"><img src=\"https://colab.research.google.com/assets/colab-badge.svg\" alt=\"Open In Colab\"/></a>"
      ]
    },
    {
      "cell_type": "markdown",
      "metadata": {
        "id": "cAY7xFvPbpFo"
      },
      "source": [
        "# Udemy 150+ Exercises - Object Oriented Programming in Python - OOP - 4\n",
        "\n",
        "### Sección 13:Computed Attributes"
      ]
    },
    {
      "cell_type": "markdown",
      "metadata": {
        "id": "fgbI3v3ykbXs"
      },
      "source": [
        "Properties can also be a way to define computed attributes – attributes that are not actually stored, but are calculated dynamically on demand\n",
        "\n",
        "\n",
        "https://www.learnbyexample.org/python-properties/"
      ]
    },
    {
      "cell_type": "code",
      "metadata": {
        "colab": {
          "base_uri": "https://localhost:8080/"
        },
        "id": "Q6MTyuE-b1_3",
        "outputId": "65845a4a-8458-43a3-ab47-d32b208bed79"
      },
      "source": [
        "class Circle:\n",
        "\n",
        "  def __init__(self, radius):\n",
        "    self.radius = radius\n",
        "\n",
        "  @property\n",
        "  def radius(self):\n",
        "    return self._radius  \n",
        "\n",
        "  @radius.setter\n",
        "  def radius(self,value):\n",
        "    self._radius = value \n",
        "\n",
        "circle = Circle(3)  \n",
        "print(circle.__dict__)   "
      ],
      "execution_count": null,
      "outputs": [
        {
          "output_type": "stream",
          "text": [
            "{'_radius': 3}\n"
          ],
          "name": "stdout"
        }
      ]
    },
    {
      "cell_type": "code",
      "metadata": {
        "colab": {
          "base_uri": "https://localhost:8080/"
        },
        "id": "jVdvMHt1gP47",
        "outputId": "b52118fd-fd0f-4771-f8c1-27478712e5bc"
      },
      "source": [
        "import math\n",
        " \n",
        " \n",
        "class Circle:\n",
        "    def __init__(self, radius):\n",
        "        self.radius = radius\n",
        "        self._area = None\n",
        " \n",
        "    @property\n",
        "    def radius(self):\n",
        "        return self._radius\n",
        " \n",
        "    @radius.setter\n",
        "    def radius(self, value):\n",
        "        self._radius = value\n",
        "        self._area = None\n",
        " \n",
        "    @property\n",
        "    def area(self):\n",
        "        if self._area is None:\n",
        "            self._area = math.pi * self._radius * self._radius\n",
        "        return self._area\n",
        " \n",
        " \n",
        "circle = Circle(3)\n",
        "print(f'{circle.area:.4f}')"
      ],
      "execution_count": null,
      "outputs": [
        {
          "output_type": "stream",
          "text": [
            "28.2743\n"
          ],
          "name": "stdout"
        }
      ]
    },
    {
      "cell_type": "code",
      "metadata": {
        "colab": {
          "base_uri": "https://localhost:8080/"
        },
        "id": "6zwSTP_kA7vy",
        "outputId": "0fc5ebcd-d051-4abb-d3d8-ee7632440ed9"
      },
      "source": [
        "import math\n",
        "class Circle:\n",
        "    def __init__(self, radius):\n",
        "        self.radius = radius\n",
        "        self._area = None\n",
        "        self._perimeter = None\n",
        " \n",
        "    @property\n",
        "    def radius(self):\n",
        "        return self._radius\n",
        " \n",
        "    @radius.setter\n",
        "    def radius(self, value):\n",
        "        self._radius = value\n",
        "        self._area = None\n",
        "        self._perimeter = None\n",
        " \n",
        "    @property\n",
        "    def area(self):\n",
        "        if self._area is None:\n",
        "            self._area = math.pi * self._radius * self._radius\n",
        "        return self._area\n",
        "    \n",
        "    @property\n",
        "    def perimeter(self):\n",
        "        if self._perimeter == None:\n",
        "            self._perimeter = math.pi * 2 * self._radius\n",
        "        return self._perimeter\n",
        "\n",
        " \n",
        "circle = Circle(3)\n",
        "print(f'{circle.perimeter:.4f}')"
      ],
      "execution_count": 7,
      "outputs": [
        {
          "output_type": "stream",
          "text": [
            "18.8496\n"
          ],
          "name": "stdout"
        }
      ]
    },
    {
      "cell_type": "code",
      "metadata": {
        "colab": {
          "base_uri": "https://localhost:8080/"
        },
        "id": "cJUkJvMMCb0E",
        "outputId": "2d3c0f52-53bf-4a43-abf2-6bf964d64404"
      },
      "source": [
        "class Rectangle:\n",
        " \n",
        "    def __init__(self, width, height):\n",
        "        self.width = width\n",
        "        self.height = height\n",
        "        self._area = None\n",
        " \n",
        "    @property\n",
        "    def width(self):\n",
        "        return self._width\n",
        " \n",
        "    @width.setter\n",
        "    def width(self, value):\n",
        "        self._width = value\n",
        "        self._area = None\n",
        " \n",
        "    @property\n",
        "    def height(self):\n",
        "        return self._height\n",
        " \n",
        "    @height.setter\n",
        "    def height(self, value):\n",
        "        self._height = value\n",
        "        self._area = None\n",
        " \n",
        "    @property\n",
        "    def area(self):\n",
        "        if self._area is None:\n",
        "            self._area = self._width * self._height\n",
        "        return self._area\n",
        " \n",
        " \n",
        "rectangle = Rectangle(3, 4)\n",
        "print(f'width: {rectangle.width}, height: {rectangle.height} -> area: {rectangle.area}')  \n",
        "\n",
        "\n"
      ],
      "execution_count": 17,
      "outputs": [
        {
          "output_type": "stream",
          "text": [
            "width: 3, height: 4 -> area: 12\n"
          ],
          "name": "stdout"
        }
      ]
    },
    {
      "cell_type": "code",
      "metadata": {
        "colab": {
          "base_uri": "https://localhost:8080/"
        },
        "id": "6NhfINAHGEvG",
        "outputId": "ae3b2e78-3b84-452c-8e9b-ceee60d292f8"
      },
      "source": [
        "class Rectangle:\n",
        " \n",
        "    def __init__(self, width, height):\n",
        "        self.width = width\n",
        "        self.height = height\n",
        "        self._area = None\n",
        "        self._perimeter = None\n",
        " \n",
        "    @property\n",
        "    def width(self):\n",
        "        return self._width\n",
        " \n",
        "    @width.setter\n",
        "    def width(self, value):\n",
        "        self._width = value\n",
        "        self._area = None\n",
        "        self._perimeter = None\n",
        " \n",
        "    @property\n",
        "    def height(self):\n",
        "        return self._height\n",
        " \n",
        "    @height.setter\n",
        "    def height(self, value):\n",
        "        self._height = value\n",
        "        self._area = None\n",
        "        self._perimeter = None\n",
        " \n",
        "    @property\n",
        "    def area(self):\n",
        "        if self._area is None:\n",
        "            self._area = self._width * self._height\n",
        "        return self._area\n",
        "\n",
        "    @property\n",
        "    def perimeter(self):\n",
        "        if self._perimeter == None:\n",
        "            self._perimeter = (self._width + self._height) * 2\n",
        "        return self._perimeter    \n",
        " \n",
        " \n",
        "rectangle = Rectangle(3, 4)\n",
        "print(f'width: {rectangle.width}, height: {rectangle.height} -> perimeter: {rectangle.perimeter}')"
      ],
      "execution_count": 20,
      "outputs": [
        {
          "output_type": "stream",
          "text": [
            "width: 3, height: 4 -> perimeter: 14\n"
          ],
          "name": "stdout"
        }
      ]
    },
    {
      "cell_type": "markdown",
      "metadata": {
        "id": "WxdsKLG4HSom"
      },
      "source": [
        "# Sección 14:Class method - decorator\n",
        "# @classmethod"
      ]
    },
    {
      "cell_type": "markdown",
      "metadata": {
        "id": "KJw21Lqmmg8Q"
      },
      "source": [
        "before creating this line show_details() can be called only with object not with class\n",
        "\n",
        "show_details = classmethod(show_details) \n",
        " \n",
        "  \n",
        "now this method can be called as classmethod \n"
      ]
    },
    {
      "cell_type": "code",
      "metadata": {
        "colab": {
          "base_uri": "https://localhost:8080/"
        },
        "id": "Wukaxpp-HfxY",
        "outputId": "539f2688-c389-4940-e770-54d87d0d1802"
      },
      "source": [
        "class Person:\n",
        "\n",
        "  def show_details(self):\n",
        "    print(f'Running from {self.__name__} class.')\n",
        "\n",
        "  show_details = classmethod(show_details)  \n",
        "\n",
        "Person.show_details()  "
      ],
      "execution_count": 4,
      "outputs": [
        {
          "output_type": "stream",
          "text": [
            "Running from Person class.\n"
          ],
          "name": "stdout"
        }
      ]
    },
    {
      "cell_type": "markdown",
      "metadata": {
        "id": "1EolRjwUpegS"
      },
      "source": [
        "or: (self and cls are not a keyword, they are just conventions) "
      ]
    },
    {
      "cell_type": "code",
      "metadata": {
        "colab": {
          "base_uri": "https://localhost:8080/"
        },
        "id": "aUwyBuvspwko",
        "outputId": "6af6e993-0e31-4012-8fed-760404c6a719"
      },
      "source": [
        "class Person:\n",
        "\n",
        "  def show_details(cls):\n",
        "    print(f'Running from {cls.__name__} class.')\n",
        "\n",
        "  show_details = classmethod(show_details)  \n",
        "\n",
        "Person.show_details()"
      ],
      "execution_count": 5,
      "outputs": [
        {
          "output_type": "stream",
          "text": [
            "Running from Person class.\n"
          ],
          "name": "stdout"
        }
      ]
    },
    {
      "cell_type": "code",
      "metadata": {
        "colab": {
          "base_uri": "https://localhost:8080/"
        },
        "id": "GXfuZuDnqFLg",
        "outputId": "352c6b96-07a6-475c-bfe1-1bc3b0cb4813"
      },
      "source": [
        "class Container:\n",
        "\n",
        "  @classmethod\n",
        "  def show_details(cls):\n",
        "    print(f'Running from {cls.__name__} class.')\n",
        "\n",
        "Container.show_details()    "
      ],
      "execution_count": 6,
      "outputs": [
        {
          "output_type": "stream",
          "text": [
            "Running from Container class.\n"
          ],
          "name": "stdout"
        }
      ]
    },
    {
      "cell_type": "code",
      "metadata": {
        "colab": {
          "base_uri": "https://localhost:8080/"
        },
        "id": "8tNqHXt8qqXM",
        "outputId": "e894b229-eba0-4ac2-ccf9-9dcf3551a54b"
      },
      "source": [
        "container = Container()\n",
        "container.show_details()"
      ],
      "execution_count": 7,
      "outputs": [
        {
          "output_type": "stream",
          "text": [
            "Running from Container class.\n"
          ],
          "name": "stdout"
        }
      ]
    },
    {
      "cell_type": "code",
      "metadata": {
        "colab": {
          "base_uri": "https://localhost:8080/"
        },
        "id": "_ve0dSqJrd88",
        "outputId": "d2d74ee0-9e2d-4352-efe0-f6d84573eebb"
      },
      "source": [
        "class Person:\n",
        "\n",
        "  instances = []\n",
        "  \n",
        "  def __init__(self):\n",
        "    Person.instances.append(self)\n",
        "\n",
        "  @classmethod\n",
        "  def count_instances(cls):\n",
        "    return len(cls.instances) \n",
        "\n",
        "a = Person()\n",
        "b = Person() \n",
        "c = Person()\n",
        "\n",
        "Person.count_instances()\n",
        "\n",
        "\n",
        "\n",
        "\n"
      ],
      "execution_count": 17,
      "outputs": [
        {
          "output_type": "execute_result",
          "data": {
            "text/plain": [
              "3"
            ]
          },
          "metadata": {
            "tags": []
          },
          "execution_count": 17
        }
      ]
    },
    {
      "cell_type": "code",
      "metadata": {
        "colab": {
          "base_uri": "https://localhost:8080/"
        },
        "id": "YX8JeRi2xV7H",
        "outputId": "dde3da6c-b78b-483b-87fa-f35315154dee"
      },
      "source": [
        "class Person:\n",
        "\n",
        "  instances = []\n",
        "  \n",
        "  def __init__(self,first_name,last_name):\n",
        "    self.first_name = first_name\n",
        "    self.last_name = last_name\n",
        "    Person.instances.append(self)\n",
        "\n",
        "  @classmethod\n",
        "  def count_instances(cls):\n",
        "    return len(cls.instances) \n",
        "\n",
        "a = Person('Hon','Sim')\n",
        "b = Person('Juj','Berniask') \n",
        "\n",
        "\n",
        "print(Person.count_instances())"
      ],
      "execution_count": 19,
      "outputs": [
        {
          "output_type": "stream",
          "text": [
            "2\n"
          ],
          "name": "stdout"
        }
      ]
    }
  ]
}