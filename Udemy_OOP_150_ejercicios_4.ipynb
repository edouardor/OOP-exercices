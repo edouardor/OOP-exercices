{
  "nbformat": 4,
  "nbformat_minor": 0,
  "metadata": {
    "colab": {
      "name": "Udemy_OOP_150_ejercicios -4",
      "provenance": [],
      "authorship_tag": "ABX9TyP162SNvbJGYSU/UzqYtavY",
      "include_colab_link": true
    },
    "kernelspec": {
      "name": "python3",
      "display_name": "Python 3"
    }
  },
  "cells": [
    {
      "cell_type": "markdown",
      "metadata": {
        "id": "view-in-github",
        "colab_type": "text"
      },
      "source": [
        "<a href=\"https://colab.research.google.com/github/edouardor/test-colab/blob/main/Udemy_OOP_150_ejercicios_4.ipynb\" target=\"_parent\"><img src=\"https://colab.research.google.com/assets/colab-badge.svg\" alt=\"Open In Colab\"/></a>"
      ]
    },
    {
      "cell_type": "markdown",
      "metadata": {
        "id": "cAY7xFvPbpFo"
      },
      "source": [
        "# Udemy 150+ Exercises - Object Oriented Programming in Python - OOP - 4\n",
        "\n",
        "### Sección 13:Computed Attributes"
      ]
    },
    {
      "cell_type": "markdown",
      "metadata": {
        "id": "fgbI3v3ykbXs"
      },
      "source": [
        "Properties can also be a way to define computed attributes – attributes that are not actually stored, but are calculated dynamically on demand\n",
        "\n",
        "\n",
        "https://www.learnbyexample.org/python-properties/"
      ]
    },
    {
      "cell_type": "code",
      "metadata": {
        "colab": {
          "base_uri": "https://localhost:8080/"
        },
        "id": "Q6MTyuE-b1_3",
        "outputId": "65845a4a-8458-43a3-ab47-d32b208bed79"
      },
      "source": [
        "class Circle:\n",
        "\n",
        "  def __init__(self, radius):\n",
        "    self.radius = radius\n",
        "\n",
        "  @property\n",
        "  def radius(self):\n",
        "    return self._radius  \n",
        "\n",
        "  @radius.setter\n",
        "  def radius(self,value):\n",
        "    self._radius = value \n",
        "\n",
        "circle = Circle(3)  \n",
        "print(circle.__dict__)   "
      ],
      "execution_count": null,
      "outputs": [
        {
          "output_type": "stream",
          "text": [
            "{'_radius': 3}\n"
          ],
          "name": "stdout"
        }
      ]
    },
    {
      "cell_type": "code",
      "metadata": {
        "colab": {
          "base_uri": "https://localhost:8080/"
        },
        "id": "jVdvMHt1gP47",
        "outputId": "b52118fd-fd0f-4771-f8c1-27478712e5bc"
      },
      "source": [
        "import math\n",
        " \n",
        " \n",
        "class Circle:\n",
        "    def __init__(self, radius):\n",
        "        self.radius = radius\n",
        "        self._area = None\n",
        " \n",
        "    @property\n",
        "    def radius(self):\n",
        "        return self._radius\n",
        " \n",
        "    @radius.setter\n",
        "    def radius(self, value):\n",
        "        self._radius = value\n",
        "        self._area = None\n",
        " \n",
        "    @property\n",
        "    def area(self):\n",
        "        if self._area is None:\n",
        "            self._area = math.pi * self._radius * self._radius\n",
        "        return self._area\n",
        " \n",
        " \n",
        "circle = Circle(3)\n",
        "print(f'{circle.area:.4f}')"
      ],
      "execution_count": null,
      "outputs": [
        {
          "output_type": "stream",
          "text": [
            "28.2743\n"
          ],
          "name": "stdout"
        }
      ]
    },
    {
      "cell_type": "code",
      "metadata": {
        "colab": {
          "base_uri": "https://localhost:8080/"
        },
        "id": "6zwSTP_kA7vy",
        "outputId": "0fc5ebcd-d051-4abb-d3d8-ee7632440ed9"
      },
      "source": [
        "import math\n",
        "class Circle:\n",
        "    def __init__(self, radius):\n",
        "        self.radius = radius\n",
        "        self._area = None\n",
        "        self._perimeter = None\n",
        " \n",
        "    @property\n",
        "    def radius(self):\n",
        "        return self._radius\n",
        " \n",
        "    @radius.setter\n",
        "    def radius(self, value):\n",
        "        self._radius = value\n",
        "        self._area = None\n",
        "        self._perimeter = None\n",
        " \n",
        "    @property\n",
        "    def area(self):\n",
        "        if self._area is None:\n",
        "            self._area = math.pi * self._radius * self._radius\n",
        "        return self._area\n",
        "    \n",
        "    @property\n",
        "    def perimeter(self):\n",
        "        if self._perimeter == None:\n",
        "            self._perimeter = math.pi * 2 * self._radius\n",
        "        return self._perimeter\n",
        "\n",
        " \n",
        "circle = Circle(3)\n",
        "print(f'{circle.perimeter:.4f}')"
      ],
      "execution_count": 7,
      "outputs": [
        {
          "output_type": "stream",
          "text": [
            "18.8496\n"
          ],
          "name": "stdout"
        }
      ]
    },
    {
      "cell_type": "code",
      "metadata": {
        "colab": {
          "base_uri": "https://localhost:8080/"
        },
        "id": "cJUkJvMMCb0E",
        "outputId": "2d3c0f52-53bf-4a43-abf2-6bf964d64404"
      },
      "source": [
        "class Rectangle:\n",
        " \n",
        "    def __init__(self, width, height):\n",
        "        self.width = width\n",
        "        self.height = height\n",
        "        self._area = None\n",
        " \n",
        "    @property\n",
        "    def width(self):\n",
        "        return self._width\n",
        " \n",
        "    @width.setter\n",
        "    def width(self, value):\n",
        "        self._width = value\n",
        "        self._area = None\n",
        " \n",
        "    @property\n",
        "    def height(self):\n",
        "        return self._height\n",
        " \n",
        "    @height.setter\n",
        "    def height(self, value):\n",
        "        self._height = value\n",
        "        self._area = None\n",
        " \n",
        "    @property\n",
        "    def area(self):\n",
        "        if self._area is None:\n",
        "            self._area = self._width * self._height\n",
        "        return self._area\n",
        " \n",
        " \n",
        "rectangle = Rectangle(3, 4)\n",
        "print(f'width: {rectangle.width}, height: {rectangle.height} -> area: {rectangle.area}')  \n",
        "\n",
        "\n"
      ],
      "execution_count": 17,
      "outputs": [
        {
          "output_type": "stream",
          "text": [
            "width: 3, height: 4 -> area: 12\n"
          ],
          "name": "stdout"
        }
      ]
    },
    {
      "cell_type": "code",
      "metadata": {
        "colab": {
          "base_uri": "https://localhost:8080/"
        },
        "id": "6NhfINAHGEvG",
        "outputId": "ae3b2e78-3b84-452c-8e9b-ceee60d292f8"
      },
      "source": [
        "class Rectangle:\n",
        " \n",
        "    def __init__(self, width, height):\n",
        "        self.width = width\n",
        "        self.height = height\n",
        "        self._area = None\n",
        "        self._perimeter = None\n",
        " \n",
        "    @property\n",
        "    def width(self):\n",
        "        return self._width\n",
        " \n",
        "    @width.setter\n",
        "    def width(self, value):\n",
        "        self._width = value\n",
        "        self._area = None\n",
        "        self._perimeter = None\n",
        " \n",
        "    @property\n",
        "    def height(self):\n",
        "        return self._height\n",
        " \n",
        "    @height.setter\n",
        "    def height(self, value):\n",
        "        self._height = value\n",
        "        self._area = None\n",
        "        self._perimeter = None\n",
        " \n",
        "    @property\n",
        "    def area(self):\n",
        "        if self._area is None:\n",
        "            self._area = self._width * self._height\n",
        "        return self._area\n",
        "\n",
        "    @property\n",
        "    def perimeter(self):\n",
        "        if self._perimeter == None:\n",
        "            self._perimeter = (self._width + self._height) * 2\n",
        "        return self._perimeter    \n",
        " \n",
        " \n",
        "rectangle = Rectangle(3, 4)\n",
        "print(f'width: {rectangle.width}, height: {rectangle.height} -> perimeter: {rectangle.perimeter}')"
      ],
      "execution_count": 20,
      "outputs": [
        {
          "output_type": "stream",
          "text": [
            "width: 3, height: 4 -> perimeter: 14\n"
          ],
          "name": "stdout"
        }
      ]
    },
    {
      "cell_type": "markdown",
      "metadata": {
        "id": "WxdsKLG4HSom"
      },
      "source": [
        "# Sección 14:Class method - decorator\n",
        "# @classmethod"
      ]
    },
    {
      "cell_type": "markdown",
      "metadata": {
        "id": "KJw21Lqmmg8Q"
      },
      "source": [
        "before creating this line show_details() can be called only with object not with class\n",
        "\n",
        "show_details = classmethod(show_details) \n",
        " \n",
        "  \n",
        "now this method can be called as classmethod \n"
      ]
    },
    {
      "cell_type": "code",
      "metadata": {
        "colab": {
          "base_uri": "https://localhost:8080/"
        },
        "id": "Wukaxpp-HfxY",
        "outputId": "539f2688-c389-4940-e770-54d87d0d1802"
      },
      "source": [
        "class Person:\n",
        "\n",
        "  def show_details(self):\n",
        "    print(f'Running from {self.__name__} class.')\n",
        "\n",
        "  show_details = classmethod(show_details)  \n",
        "\n",
        "Person.show_details()  "
      ],
      "execution_count": 4,
      "outputs": [
        {
          "output_type": "stream",
          "text": [
            "Running from Person class.\n"
          ],
          "name": "stdout"
        }
      ]
    },
    {
      "cell_type": "markdown",
      "metadata": {
        "id": "1EolRjwUpegS"
      },
      "source": [
        "or: (self and cls are not a keyword, they are just conventions) "
      ]
    },
    {
      "cell_type": "code",
      "metadata": {
        "colab": {
          "base_uri": "https://localhost:8080/"
        },
        "id": "aUwyBuvspwko",
        "outputId": "6af6e993-0e31-4012-8fed-760404c6a719"
      },
      "source": [
        "class Person:\n",
        "\n",
        "  def show_details(cls):\n",
        "    print(f'Running from {cls.__name__} class.')\n",
        "\n",
        "  show_details = classmethod(show_details)  \n",
        "\n",
        "Person.show_details()"
      ],
      "execution_count": 5,
      "outputs": [
        {
          "output_type": "stream",
          "text": [
            "Running from Person class.\n"
          ],
          "name": "stdout"
        }
      ]
    },
    {
      "cell_type": "code",
      "metadata": {
        "colab": {
          "base_uri": "https://localhost:8080/"
        },
        "id": "GXfuZuDnqFLg",
        "outputId": "352c6b96-07a6-475c-bfe1-1bc3b0cb4813"
      },
      "source": [
        "class Container:\n",
        "\n",
        "  @classmethod\n",
        "  def show_details(cls):\n",
        "    print(f'Running from {cls.__name__} class.')\n",
        "\n",
        "Container.show_details()    "
      ],
      "execution_count": 6,
      "outputs": [
        {
          "output_type": "stream",
          "text": [
            "Running from Container class.\n"
          ],
          "name": "stdout"
        }
      ]
    },
    {
      "cell_type": "code",
      "metadata": {
        "colab": {
          "base_uri": "https://localhost:8080/"
        },
        "id": "8tNqHXt8qqXM",
        "outputId": "e894b229-eba0-4ac2-ccf9-9dcf3551a54b"
      },
      "source": [
        "container = Container()\n",
        "container.show_details()"
      ],
      "execution_count": 7,
      "outputs": [
        {
          "output_type": "stream",
          "text": [
            "Running from Container class.\n"
          ],
          "name": "stdout"
        }
      ]
    },
    {
      "cell_type": "code",
      "metadata": {
        "colab": {
          "base_uri": "https://localhost:8080/"
        },
        "id": "_ve0dSqJrd88",
        "outputId": "d2d74ee0-9e2d-4352-efe0-f6d84573eebb"
      },
      "source": [
        "class Person:\n",
        "\n",
        "  instances = []\n",
        "  \n",
        "  def __init__(self):\n",
        "    Person.instances.append(self)\n",
        "\n",
        "  @classmethod\n",
        "  def count_instances(cls):\n",
        "    return len(cls.instances) \n",
        "\n",
        "a = Person()\n",
        "b = Person() \n",
        "c = Person()\n",
        "\n",
        "Person.count_instances()\n",
        "\n",
        "\n",
        "\n",
        "\n"
      ],
      "execution_count": 17,
      "outputs": [
        {
          "output_type": "execute_result",
          "data": {
            "text/plain": [
              "3"
            ]
          },
          "metadata": {
            "tags": []
          },
          "execution_count": 17
        }
      ]
    },
    {
      "cell_type": "code",
      "metadata": {
        "colab": {
          "base_uri": "https://localhost:8080/"
        },
        "id": "YX8JeRi2xV7H",
        "outputId": "dde3da6c-b78b-483b-87fa-f35315154dee"
      },
      "source": [
        "class Person:\n",
        "\n",
        "  instances = []\n",
        "  \n",
        "  def __init__(self,first_name,last_name):\n",
        "    self.first_name = first_name\n",
        "    self.last_name = last_name\n",
        "    Person.instances.append(self)\n",
        "\n",
        "  @classmethod\n",
        "  def count_instances(cls):\n",
        "    return len(cls.instances) \n",
        "\n",
        "a = Person('Hon','Sim')\n",
        "b = Person('Juj','Berniask') \n",
        "\n",
        "\n",
        "print(Person.count_instances())"
      ],
      "execution_count": 19,
      "outputs": [
        {
          "output_type": "stream",
          "text": [
            "2\n"
          ],
          "name": "stdout"
        }
      ]
    },
    {
      "cell_type": "markdown",
      "metadata": {
        "id": "9_cMbCM636qY"
      },
      "source": [
        "# Sección 15:Static method - decorator @staticmethod"
      ]
    },
    {
      "cell_type": "markdown",
      "metadata": {
        "id": "pm_cCP1V3oSM"
      },
      "source": [
        "Static methods in Python are extremely similar to python class level methods, the difference being that a static method is bound to a class rather than the objects for that class.\n",
        "\n",
        "This means that a static method can be called without an object for that class. This also means that static methods cannot modify the state of an object as they are not bound to it. Let’s see how we can create static methods in Python"
      ]
    },
    {
      "cell_type": "code",
      "metadata": {
        "id": "vy9fEb7N4Zts"
      },
      "source": [
        "import time\n",
        "class Container:\n",
        "\n",
        "  def get_current_time():\n",
        "    named_tuple = time.localtime() # get struct_time\n",
        "    return time.strftime(\"%H:%M:%S\", named_tuple)\n",
        "\n",
        "  get_current_time = staticmethod(get_current_time) \n",
        "\n",
        "\n"
      ],
      "execution_count": 2,
      "outputs": []
    },
    {
      "cell_type": "code",
      "metadata": {
        "id": "NW4Hw1Nk6Zfo"
      },
      "source": [
        "import time\n",
        "import time\n",
        "class Container:\n",
        "\n",
        "  @staticmethod\n",
        "  def get_current_time():\n",
        "    named_tuple = time.localtime() # get struct_time\n",
        "    return time.strftime(\"%H:%M:%S\", named_tuple)\n",
        " "
      ],
      "execution_count": 3,
      "outputs": []
    },
    {
      "cell_type": "code",
      "metadata": {
        "colab": {
          "base_uri": "https://localhost:8080/"
        },
        "id": "c9EJZ4Qa7M-6",
        "outputId": "4f4350c9-8c91-4935-db9e-5c5e621c7eaf"
      },
      "source": [
        "import uuid\n",
        "\n",
        "class Book:\n",
        "\n",
        "  @staticmethod\n",
        "  def get_id():\n",
        "    return str(uuid.uuid4().fields[-1])[:6]\n",
        "\n",
        "  def __init__(self, title, author):\n",
        "    self.book_id = Book.get_id()  #or self.get_id()\n",
        "    self.title = title\n",
        "    self.author = author\n",
        "    \n",
        "\n",
        " \n",
        "\n",
        "book1 = Book('Inferno','Dan Brown')  \n",
        "print(book1.__dict__.keys())   "
      ],
      "execution_count": 8,
      "outputs": [
        {
          "output_type": "stream",
          "text": [
            "dict_keys(['book_id', 'title', 'author'])\n"
          ],
          "name": "stdout"
        }
      ]
    },
    {
      "cell_type": "code",
      "metadata": {
        "colab": {
          "base_uri": "https://localhost:8080/"
        },
        "id": "OuT8ufC0-YPW",
        "outputId": "8c5d8a0e-944d-4f1b-eaac-2031c2ce6c2c"
      },
      "source": [
        "import uuid\n",
        "\n",
        "class Book:\n",
        "\n",
        "  @staticmethod\n",
        "  def get_id():\n",
        "    return str(uuid.uuid4().fields[-1])[:6]\n",
        "\n",
        "  def __init__(self, title, author):\n",
        "    self.book_id = Book.get_id()  #or self.get_id()\n",
        "    self.title = title\n",
        "    self.author = author\n",
        "\n",
        "  def __repr__(self):\n",
        "    return f\"Book(title='{self.title}', author='{self.author}')\" \n",
        "\n",
        " \n",
        "\n",
        "book1 = Book('Inferno','Dan Brown') \n",
        "print(book1)"
      ],
      "execution_count": 11,
      "outputs": [
        {
          "output_type": "stream",
          "text": [
            "Book(title='Inferno', author='Dan Brown')\n"
          ],
          "name": "stdout"
        }
      ]
    },
    {
      "cell_type": "markdown",
      "metadata": {
        "id": "f3ow9QTxhtt2"
      },
      "source": [
        "# Sección 16:Special methods"
      ]
    },
    {
      "cell_type": "code",
      "metadata": {
        "id": "57E9fyhMh0eu"
      },
      "source": [
        ""
      ],
      "execution_count": null,
      "outputs": []
    },
    {
      "cell_type": "code",
      "metadata": {
        "colab": {
          "base_uri": "https://localhost:8080/"
        },
        "id": "cu5E2mkIh5qH",
        "outputId": "83b05ddf-b942-4e20-ec86-19643f723181"
      },
      "source": [
        "class Person:\n",
        "\n",
        "\n",
        "  def __init__(self, fname, lname):\n",
        "    self.fname = fname\n",
        "    self.lname = lname\n",
        "\n",
        "  def __repr__(self):\n",
        "    return f\"Person(fname='{self.fname}', lname='{self.lname}')\"  \n",
        "\n",
        "person = Person('Mike','Smith')  \n",
        "print(person)"
      ],
      "execution_count": 18,
      "outputs": [
        {
          "output_type": "stream",
          "text": [
            "Person(fname='Mike', lname='Smith')\n"
          ],
          "name": "stdout"
        }
      ]
    },
    {
      "cell_type": "code",
      "metadata": {
        "colab": {
          "base_uri": "https://localhost:8080/"
        },
        "id": "lmifSNaTkvjN",
        "outputId": "34dec4c7-7d2a-4cb1-af0f-dd03002b09b9"
      },
      "source": [
        "class Person:\n",
        "\n",
        "\n",
        "  def __init__(self, fname, lname):\n",
        "    self.fname = fname\n",
        "    self.lname = lname\n",
        "\n",
        "  def __repr__(self):\n",
        "    return f\"Person(fname='{self.fname}', lname='{self.lname}')\" \n",
        "\n",
        "  def __str__(self):\n",
        "    return f'First name: {self.fname}\\nLast name: {self.lname}'   \n",
        "\n",
        "person = Person('Mike','Smith')  \n",
        "print(person)"
      ],
      "execution_count": 20,
      "outputs": [
        {
          "output_type": "stream",
          "text": [
            "First Name: Mike \n",
            "Last Name: Smith\n"
          ],
          "name": "stdout"
        }
      ]
    },
    {
      "cell_type": "code",
      "metadata": {
        "colab": {
          "base_uri": "https://localhost:8080/"
        },
        "id": "lqy9_UKNmLVy",
        "outputId": "e3b55f6d-69b7-411f-814b-8209846f84fb"
      },
      "source": [
        "class Vector:\n",
        "\n",
        "  def __init__(self,*coords):\n",
        "    self.coords = coords\n",
        "\n",
        "  def __repr__(self):\n",
        "    return f'Vector{self.coords}'\n",
        "\n",
        "v1 = Vector(-3,4,2)\n",
        "print(v1)      \n"
      ],
      "execution_count": 30,
      "outputs": [
        {
          "output_type": "stream",
          "text": [
            "Vector(-3, 4, 2)\n"
          ],
          "name": "stdout"
        }
      ]
    },
    {
      "cell_type": "code",
      "metadata": {
        "colab": {
          "base_uri": "https://localhost:8080/"
        },
        "id": "onoHt8MVo_hk",
        "outputId": "7afac9f3-c4d9-4946-c88c-7486881580a0"
      },
      "source": [
        "class Vector:\n",
        "\n",
        "  def __init__(self,*coords):\n",
        "    self.coords = coords\n",
        "\n",
        "  def __repr__(self):\n",
        "    return f'{self.coords}' #only self.coords doesn´t work (tuple, not string)\n",
        "\n",
        "v1 = Vector(-3,4,2)\n",
        "print(v1)"
      ],
      "execution_count": 33,
      "outputs": [
        {
          "output_type": "stream",
          "text": [
            "(-3, 4, 2)\n"
          ],
          "name": "stdout"
        }
      ]
    },
    {
      "cell_type": "code",
      "metadata": {
        "colab": {
          "base_uri": "https://localhost:8080/"
        },
        "id": "y1-lEr97p8BX",
        "outputId": "1630808e-bfce-40f4-afbf-d1dcb5dda4b6"
      },
      "source": [
        "class Vector:\n",
        "\n",
        "  def __init__(self,*coords):\n",
        "    self.coords = coords\n",
        "\n",
        "  def __repr__(self):\n",
        "    return f'{self.coords}' #only self.coords doesn´t work (tuple, not string)\n",
        "\n",
        "  def __len__(self):\n",
        "    return len(self.coords)\n",
        "\n",
        "v1 = Vector(-3,4,2)\n",
        "print(len(v1))"
      ],
      "execution_count": 34,
      "outputs": [
        {
          "output_type": "stream",
          "text": [
            "3\n"
          ],
          "name": "stdout"
        }
      ]
    },
    {
      "cell_type": "code",
      "metadata": {
        "colab": {
          "base_uri": "https://localhost:8080/"
        },
        "id": "VQjef9G8q2KE",
        "outputId": "20c5b4aa-daf7-497e-9654-122a635fe7a3"
      },
      "source": [
        "class Vector:\n",
        "\n",
        "  def __init__(self,*coords):\n",
        "    self.coords = coords\n",
        "\n",
        "  def __repr__(self):\n",
        "    return f'{self.coords}' #only self.coords doesn´t work (tuple, not string)\n",
        "\n",
        "  def __len__(self):\n",
        "    return len(self.coords)\n",
        "\n",
        "  def __bool__(self):\n",
        "    return bool(self.coords[0]) if self.coords else False\n",
        "\n",
        "v1 = Vector()\n",
        "v2 = Vector(3,2)\n",
        "v3 = Vector(0, .3, 2)\n",
        "v4 = Vector(5,0,-1)\n",
        "\n",
        "vector_list = [v1,v2,v3,v4]\n",
        "for vector in vector_list:\n",
        "  print(bool(vector))\n",
        "\n"
      ],
      "execution_count": 45,
      "outputs": [
        {
          "output_type": "stream",
          "text": [
            "False\n",
            "True\n",
            "False\n",
            "True\n"
          ],
          "name": "stdout"
        }
      ]
    },
    {
      "cell_type": "code",
      "metadata": {
        "colab": {
          "base_uri": "https://localhost:8080/"
        },
        "id": "NrLW2jGZrMjA",
        "outputId": "29e5bcb5-4d48-4129-ae54-78f2e2488b51"
      },
      "source": [
        "class Vector:\n",
        "\n",
        "  def __init__(self,*coords):\n",
        "    self.coords = coords\n",
        "\n",
        "  def __repr__(self):\n",
        "    return f'{self.coords}' #only self.coords doesn´t work (tuple, not string)\n",
        "\n",
        "  def __len__(self):\n",
        "    return len(self.coords)\n",
        "\n",
        "     \n",
        "      \n",
        "v1 = Vector(4,2)\n",
        "v2 = Vector(-1,3)      \n",
        "try:\n",
        "    v1 + v2\n",
        "except TypeError as error:\n",
        "    print(error) "
      ],
      "execution_count": 51,
      "outputs": [
        {
          "output_type": "stream",
          "text": [
            "unsupported operand type(s) for +: 'Vector' and 'Vector'\n"
          ],
          "name": "stdout"
        }
      ]
    },
    {
      "cell_type": "code",
      "metadata": {
        "colab": {
          "base_uri": "https://localhost:8080/"
        },
        "id": "dFfWMpI4rMdF",
        "outputId": "ec22c12c-8513-4593-fb32-3eb5b099ec7c"
      },
      "source": [
        "class Vector:\n",
        "\n",
        "  def __init__(self,*coords):\n",
        "    self.coords = coords\n",
        "\n",
        "  def __repr__(self):\n",
        "    return f'{self.coords}' #only self.coords doesn´t work (tuple, not string)\n",
        "\n",
        "  def __len__(self):\n",
        "    return len(self.coords)\n",
        "\n",
        "  def __add__(self,other):\n",
        "    coords = map(sum,zip(self.coords,other.coords))\n",
        "    return Vector(*coords)\n",
        "\n",
        "v1 = Vector(4,2)\n",
        "v2 = Vector(-1,3)      \n",
        "\n",
        "print(v1+v2)  "
      ],
      "execution_count": 62,
      "outputs": [
        {
          "output_type": "stream",
          "text": [
            "(3, 5)\n"
          ],
          "name": "stdout"
        }
      ]
    },
    {
      "cell_type": "code",
      "metadata": {
        "id": "JA8jnTbcrS69"
      },
      "source": [
        ""
      ],
      "execution_count": null,
      "outputs": []
    },
    {
      "cell_type": "markdown",
      "metadata": {
        "id": "xsxYc4xAzLPg"
      },
      "source": [
        ""
      ]
    }
  ]
}