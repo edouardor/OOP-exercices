{
  "nbformat": 4,
  "nbformat_minor": 0,
  "metadata": {
    "colab": {
      "name": "Udemy_OOP_150_ejercicios -5.ipynb",
      "provenance": [],
      "authorship_tag": "ABX9TyMLL4BDkC2ge1g8QsuD9gi5",
      "include_colab_link": true
    },
    "kernelspec": {
      "name": "python3",
      "display_name": "Python 3"
    }
  },
  "cells": [
    {
      "cell_type": "markdown",
      "metadata": {
        "id": "view-in-github",
        "colab_type": "text"
      },
      "source": [
        "<a href=\"https://colab.research.google.com/github/edouardor/OOP-exercices/blob/main/Udemy_OOP_150_ejercicios_5.ipynb\" target=\"_parent\"><img src=\"https://colab.research.google.com/assets/colab-badge.svg\" alt=\"Open In Colab\"/></a>"
      ]
    },
    {
      "cell_type": "markdown",
      "metadata": {
        "id": "dLErtcodWBz9"
      },
      "source": [
        "# Udemy 150+ Exercises - Object Oriented Programming in Python - OOP - 5\n",
        "### Sección 17:Inheritance"
      ]
    },
    {
      "cell_type": "code",
      "metadata": {
        "id": "NQFBIy_FWduq"
      },
      "source": [
        "class Container:\n",
        "  pass\n",
        "\n",
        "class PlasticContainer(Container):\n",
        "  pass\n",
        "\n",
        "class MetalContainer(Container):\n",
        "  pass    "
      ],
      "execution_count": 5,
      "outputs": []
    },
    {
      "cell_type": "code",
      "metadata": {
        "colab": {
          "base_uri": "https://localhost:8080/"
        },
        "id": "am94ItEdXeNC",
        "outputId": "2550a324-ff1c-4e74-e1be-f8b826927d16"
      },
      "source": [
        "class CustomContainer:\n",
        "    pass\n",
        "\n",
        "print(issubclass(PlasticContainer,Container))\n",
        "print(issubclass(MetalContainer,Container))\n",
        "print(issubclass(CustomContainer,Container))"
      ],
      "execution_count": 6,
      "outputs": [
        {
          "output_type": "stream",
          "text": [
            "True\n",
            "True\n",
            "False\n"
          ],
          "name": "stdout"
        }
      ]
    },
    {
      "cell_type": "code",
      "metadata": {
        "colab": {
          "base_uri": "https://localhost:8080/"
        },
        "id": "QMe9p5lHbvyz",
        "outputId": "584f718f-1be6-4442-99a1-d897738d93f1"
      },
      "source": [
        "class SmallPlasticContainer(PlasticContainer):\n",
        "    pass\n",
        "\n",
        "print(SmallPlasticContainer.mro())    "
      ],
      "execution_count": 10,
      "outputs": [
        {
          "output_type": "stream",
          "text": [
            "[<class '__main__.SmallPlasticContainer'>, <class '__main__.PlasticContainer'>, <class '__main__.Container'>, <class 'object'>]\n"
          ],
          "name": "stdout"
        }
      ]
    },
    {
      "cell_type": "code",
      "metadata": {
        "colab": {
          "base_uri": "https://localhost:8080/"
        },
        "id": "EAJYI6LXrU_A",
        "outputId": "d3256772-232c-47a4-88f9-7567ae027875"
      },
      "source": [
        "class Vehicle:\n",
        "\n",
        "    def __init__(self, category=None):\n",
        "        self.category = category if category else 'land vehicle'\n",
        "    \n",
        "    def __repr__(self):\n",
        "      return f\"{self.__class__.__name__}(category='{self.category}')\"\n",
        "    \n",
        "class LandVehicle(Vehicle):\n",
        "    pass\n",
        "\n",
        "\n",
        "class AirVehicle(Vehicle):\n",
        "\n",
        "    def __init__(self, category=None):\n",
        "        self.category = category if category else 'air vehicle'   \n",
        "\n",
        "\n",
        "instances = [Vehicle(), LandVehicle(), AirVehicle()]\n",
        "\n",
        "for instance in instances:\n",
        "    print(instance)"
      ],
      "execution_count": 18,
      "outputs": [
        {
          "output_type": "stream",
          "text": [
            "Vehicle(category='land vehicle')\n",
            "LandVehicle(category='land vehicle')\n",
            "AirVehicle(category='air vehicle')\n"
          ],
          "name": "stdout"
        }
      ]
    },
    {
      "cell_type": "code",
      "metadata": {
        "colab": {
          "base_uri": "https://localhost:8080/"
        },
        "id": "eYDx6PUKv0IU",
        "outputId": "bc5c3f5c-a48e-4853-c7b5-11c3ea8dc990"
      },
      "source": [
        "class Vehicle:\n",
        "\n",
        "    def __init__(self, category=None):\n",
        "        self.category = category if category else 'land vehicle'\n",
        "    \n",
        "    def display_info(self):\n",
        "        print(f\"{self.__class__.__name__} -> {self.category}\")\n",
        "    \n",
        "class LandVehicle(Vehicle):\n",
        "    pass\n",
        "\n",
        "\n",
        "class AirVehicle(Vehicle):\n",
        "\n",
        "    def __init__(self, category=None):\n",
        "        self.category = category if category else 'air vehicle'   \n",
        "\n",
        "\n",
        "instances = [Vehicle(), LandVehicle(), AirVehicle()]\n",
        "\n",
        "for instance in instances:\n",
        "    instance.display_info()"
      ],
      "execution_count": 23,
      "outputs": [
        {
          "output_type": "stream",
          "text": [
            "Vehicle -> land vehicle\n",
            "LandVehicle -> land vehicle\n",
            "AirVehicle -> air vehicle\n"
          ],
          "name": "stdout"
        }
      ]
    },
    {
      "cell_type": "code",
      "metadata": {
        "colab": {
          "base_uri": "https://localhost:8080/"
        },
        "id": "J8KYAmJ3ybLL",
        "outputId": "6d2d6c34-979b-4974-d550-0252889beeec"
      },
      "source": [
        "class Vehicle:\n",
        "\n",
        "    def __init__(self, brand, color, year):\n",
        "        self.brand = brand\n",
        "        self.color = color\n",
        "        self.year = year\n",
        "\n",
        "class Car(Vehicle):\n",
        "\n",
        "    def __init__(self, brand, color, year, horsepower):\n",
        "        self.brand = brand\n",
        "        self.color = color\n",
        "        self.year = year\n",
        "        self.horsepower = horsepower\n",
        "\n",
        "v1 = Vehicle('Tesla','red',2020)\n",
        "c1 = Car('Tesla','red',2020,300)  \n",
        "print(v1.__dict__)\n",
        "print(c1.__dict__)      \n"
      ],
      "execution_count": 27,
      "outputs": [
        {
          "output_type": "stream",
          "text": [
            "{'brand': 'Tesla', 'color': 'red', 'year': 2020}\n",
            "{'brand': 'Tesla', 'color': 'red', 'year': 2020, 'horsepower': 300}\n"
          ],
          "name": "stdout"
        }
      ]
    },
    {
      "cell_type": "markdown",
      "metadata": {
        "id": "IXMY8Ivl5s6U"
      },
      "source": [
        "When you override a method, you sometimes want to reuse the method of the base class and add some new stuff.\n",
        "\n",
        "You can achieve this by using the super() Function.\n",
        "\n",
        "To demonstrate this, let’s redefine our Vehicle and Car class, but this time with the __init__() method\n",
        "\n",
        "We used super() to make sure the car can do everything a vehicle can, plus more.\n",
        "\n",
        "There’s another benefit; if the definition of Vehicle changes in the future, the super() will ensure that all the changes will be reflected.\n",
        "\n",
        "(from https://www.learnbyexample.org/python-inheritance/)"
      ]
    },
    {
      "cell_type": "code",
      "metadata": {
        "colab": {
          "base_uri": "https://localhost:8080/"
        },
        "id": "8j7km6LS3seu",
        "outputId": "2170437b-f35f-42c7-cdc0-7a8b00aa73f8"
      },
      "source": [
        "class Vehicle:\n",
        "\n",
        "    def __init__(self, brand, color, year):\n",
        "        self.brand = brand\n",
        "        self.color = color\n",
        "        self.year = year\n",
        "\n",
        "class Car(Vehicle):\n",
        "\n",
        "    def __init__(self, brand, color, year, horsepower):\n",
        "        super().__init__(brand, color, year)\n",
        "        self.horsepower = horsepower\n",
        "\n",
        "v1 = Vehicle('Tesla','red',2020)\n",
        "c1 = Car('Tesla','red',2020,300)  \n",
        "print(v1.__dict__)\n",
        "print(c1.__dict__)"
      ],
      "execution_count": 30,
      "outputs": [
        {
          "output_type": "stream",
          "text": [
            "{'brand': 'Tesla', 'color': 'red', 'year': 2020}\n",
            "{'brand': 'Tesla', 'color': 'red', 'year': 2020, 'horsepower': 300}\n"
          ],
          "name": "stdout"
        }
      ]
    },
    {
      "cell_type": "code",
      "metadata": {
        "colab": {
          "base_uri": "https://localhost:8080/"
        },
        "id": "wATqM3SA7KvB",
        "outputId": "50705e45-ecdc-48e8-83e6-5f917901f46f"
      },
      "source": [
        "class Vehicle:\n",
        "\n",
        "    def __init__(self, brand, color, year):\n",
        "        self.brand = brand\n",
        "        self.color = color\n",
        "        self.year = year\n",
        "\n",
        "    def display_attrs(self):\n",
        "      for attr,value in self.__dict__.items():\n",
        "        print(f'{attr} -> {value}')\n",
        "\n",
        "\n",
        "class Car(Vehicle):\n",
        "\n",
        "    def __init__(self, brand, color, year, horsepower):\n",
        "        super().__init__(brand, color, year)\n",
        "        self.horsepower = horsepower\n",
        "\n",
        "car = Car('Opel','black',2018,160)\n",
        "car.display_attrs()"
      ],
      "execution_count": 34,
      "outputs": [
        {
          "output_type": "stream",
          "text": [
            "brand -> Opel\n",
            "color -> black\n",
            "year -> 2018\n",
            "horsepower -> 190\n"
          ],
          "name": "stdout"
        }
      ]
    },
    {
      "cell_type": "code",
      "metadata": {
        "colab": {
          "base_uri": "https://localhost:8080/"
        },
        "id": "fQAVQbrb9oMj",
        "outputId": "a52894e2-16d8-4c08-d4eb-bba0dba067e3"
      },
      "source": [
        "class Vehicle:\n",
        "\n",
        "    def __init__(self, brand, color, year):\n",
        "        self.brand = brand\n",
        "        self.color = color\n",
        "        self.year = year\n",
        "\n",
        "    def display_attrs(self):\n",
        "      print(f'Calling from class: {self.__class__.__name__}')\n",
        "      for attr,value in self.__dict__.items():\n",
        "        print(f'{attr} -> {value}')\n",
        "\n",
        "\n",
        "class Car(Vehicle):\n",
        "\n",
        "    def __init__(self, brand, color, year, horsepower):\n",
        "        super().__init__(brand, color, year)\n",
        "        self.horsepower = horsepower\n",
        "\n",
        "car = Car('Opel','black',2018,160)\n",
        "car.display_attrs()"
      ],
      "execution_count": 35,
      "outputs": [
        {
          "output_type": "stream",
          "text": [
            "Calling from class: Car\n",
            "brand -> Opel\n",
            "color -> black\n",
            "year -> 2018\n",
            "horsepower -> 160\n"
          ],
          "name": "stdout"
        }
      ]
    },
    {
      "cell_type": "code",
      "metadata": {
        "colab": {
          "base_uri": "https://localhost:8080/"
        },
        "id": "y-j9UsvgQD6y",
        "outputId": "e38d2b59-a6b2-4b17-abeb-b52436de1799"
      },
      "source": [
        "class Container:\n",
        "  pass\n",
        "\n",
        "class TemperatureControlledContainer(Container):\n",
        "  pass\n",
        "\n",
        "class RefrigeratedContainer(TemperatureControlledContainer):\n",
        "  pass    \n",
        "\n",
        "print(issubclass(TemperatureControlledContainer,Container))\n",
        "print(issubclass(RefrigeratedContainer,TemperatureControlledContainer))\n",
        "print(issubclass(RefrigeratedContainer,Container))"
      ],
      "execution_count": 37,
      "outputs": [
        {
          "output_type": "stream",
          "text": [
            "True\n",
            "True\n",
            "True\n"
          ],
          "name": "stdout"
        }
      ]
    },
    {
      "cell_type": "code",
      "metadata": {
        "colab": {
          "base_uri": "https://localhost:8080/"
        },
        "id": "1M9U26cdRWZV",
        "outputId": "09233f4e-e9f8-4014-f987-4d23b6c907bb"
      },
      "source": [
        "class Container:\n",
        "  pass\n",
        "\n",
        "class TemperatureControlledContainer(Container):\n",
        "  temp_range = (-25.0,25.0)\n",
        "\n",
        "class RefrigeratedContainer(TemperatureControlledContainer):\n",
        "  temp_range = (-25.0,5.0)\n",
        "\n",
        "\n",
        "print(getattr(RefrigeratedContainer,'temp_range'))\n",
        "print(RefrigeratedContainer.temp_range)    "
      ],
      "execution_count": 59,
      "outputs": [
        {
          "output_type": "stream",
          "text": [
            "(-25.0, 5.0)\n",
            "(-25.0, 5.0)\n"
          ],
          "name": "stdout"
        }
      ]
    },
    {
      "cell_type": "code",
      "metadata": {
        "colab": {
          "base_uri": "https://localhost:8080/"
        },
        "id": "giCMVxBTK-Uz",
        "outputId": "2498f142-1122-4dfe-ed5c-de5c0a11fbe8"
      },
      "source": [
        "class Person:\n",
        "  def __init__(self, first_name, last_name, age):\n",
        "    self.first_name = first_name\n",
        "    self.last_name = last_name\n",
        "    self.age = age\n",
        "\n",
        "class Department:\n",
        "  pass\n",
        "\n",
        "class Worker(Person,Department):\n",
        "  pass    \n",
        "\n",
        "worker = Worker('John','Doe',30)  \n",
        "print(worker.__dict__)"
      ],
      "execution_count": 1,
      "outputs": [
        {
          "output_type": "stream",
          "text": [
            "{'first_name': 'John', 'last_name': 'Doe', 'age': 30}\n"
          ],
          "name": "stdout"
        }
      ]
    },
    {
      "cell_type": "code",
      "metadata": {
        "colab": {
          "base_uri": "https://localhost:8080/"
        },
        "id": "PiCsOeAMMZy4",
        "outputId": "3efe31c5-69a1-4dd4-a052-a95f4ac23205"
      },
      "source": [
        "class Person:\n",
        "  def __init__(self, first_name, last_name, age):\n",
        "    self.first_name = first_name\n",
        "    self.last_name = last_name\n",
        "    self.age = age\n",
        "\n",
        "class Department:\n",
        "  def __init__(self,dept_name, short_dept_name):\n",
        "    self.dept_name = dept_name\n",
        "    self.short_dept_name = short_dept_name\n",
        "\n",
        "class Worker(Person,Department):\n",
        "  pass    \n",
        "\n",
        "department = Department('Information Technology','IT')\n",
        "print(department.__dict__)"
      ],
      "execution_count": 2,
      "outputs": [
        {
          "output_type": "stream",
          "text": [
            "{'dept_name': 'Information Technology', 'short_dept_name': 'IT'}\n"
          ],
          "name": "stdout"
        }
      ]
    },
    {
      "cell_type": "code",
      "metadata": {
        "colab": {
          "base_uri": "https://localhost:8080/"
        },
        "id": "nKaNgrqDNuUM",
        "outputId": "8fd67d64-b410-4931-8d15-49bd88062607"
      },
      "source": [
        "class Person:\n",
        "  def __init__(self, first_name, last_name, age):\n",
        "    self.first_name = first_name\n",
        "    self.last_name = last_name\n",
        "    self.age = age\n",
        "\n",
        "class Department:\n",
        "  def __init__(self,dept_name, short_dept_name):\n",
        "    self.dept_name = dept_name\n",
        "    self.short_dept_name = short_dept_name\n",
        "\n",
        "class Worker(Person,Department):\n",
        "  def __init__(self, first_name, last_name, age, dept_name, short_dept_name):\n",
        "    self.first_name = first_name\n",
        "    self.last_name = last_name\n",
        "    self.age = age\n",
        "    self.dept_name = dept_name\n",
        "    self.short_dept_name = short_dept_name\n",
        "      \n",
        "worker = Worker('John','Doe',30,'Information Technology','IT')  \n",
        "print(worker.__dict__)\n"
      ],
      "execution_count": 4,
      "outputs": [
        {
          "output_type": "stream",
          "text": [
            "{'first_name': 'John', 'last_name': 'Doe', 'age': 30, 'dept_name': 'Information Technology', 'short_dept_name': 'IT'}\n"
          ],
          "name": "stdout"
        }
      ]
    },
    {
      "cell_type": "markdown",
      "metadata": {
        "id": "Ym_fkCBIOrtL"
      },
      "source": [
        "This solution is better:"
      ]
    },
    {
      "cell_type": "code",
      "metadata": {
        "colab": {
          "base_uri": "https://localhost:8080/"
        },
        "id": "Zt_Jnj-BOrRt",
        "outputId": "e3bc1489-e7be-43c9-b8ee-dd22e15715ef"
      },
      "source": [
        "class Person:\n",
        "  def __init__(self, first_name, last_name, age):\n",
        "    self.first_name = first_name\n",
        "    self.last_name = last_name\n",
        "    self.age = age\n",
        "\n",
        "class Department:\n",
        "  def __init__(self,dept_name, short_dept_name):\n",
        "    self.dept_name = dept_name\n",
        "    self.short_dept_name = short_dept_name\n",
        "\n",
        "class Worker(Person,Department):\n",
        "  def __init__(self, first_name, last_name, age, dept_name, short_dept_name):\n",
        "    Person.__init__(self, first_name, last_name, age)\n",
        "    Department.__init__(self, dept_name, short_dept_name)\n",
        "      \n",
        "worker = Worker('John','Doe',30,'Information Technology','IT')  \n",
        "print(worker.__dict__)"
      ],
      "execution_count": 5,
      "outputs": [
        {
          "output_type": "stream",
          "text": [
            "{'first_name': 'John', 'last_name': 'Doe', 'age': 30, 'dept_name': 'Information Technology', 'short_dept_name': 'IT'}\n"
          ],
          "name": "stdout"
        }
      ]
    },
    {
      "cell_type": "code",
      "metadata": {
        "colab": {
          "base_uri": "https://localhost:8080/"
        },
        "id": "pqyvg4hZPRSM",
        "outputId": "8b5a8ff8-f8a7-4eca-82dd-3a0fb286faa8"
      },
      "source": [
        "print(Worker.mro())"
      ],
      "execution_count": 7,
      "outputs": [
        {
          "output_type": "stream",
          "text": [
            "[<class '__main__.Worker'>, <class '__main__.Person'>, <class '__main__.Department'>, <class 'object'>]\n"
          ],
          "name": "stdout"
        }
      ]
    },
    {
      "cell_type": "markdown",
      "metadata": {
        "id": "KtiZ4XZ4UOWj"
      },
      "source": [
        "### Sección 18:Abstract classes"
      ]
    },
    {
      "cell_type": "code",
      "metadata": {
        "colab": {
          "base_uri": "https://localhost:8080/"
        },
        "id": "5G7c3EgoUN3B",
        "outputId": "efd9b313-65fc-48a8-f827-d5d3b655514a"
      },
      "source": [
        "from abc import ABC, abstractmethod \n",
        "\n",
        "class Figure(ABC):\n",
        "  pass\n",
        "\n",
        "  @abstractmethod \n",
        "  def area(self):\n",
        "    pass\n",
        "\n",
        "class Square(Figure):\n",
        "\n",
        "  def __init__(self,a):\n",
        "    self.a = a\n",
        "\n",
        "  def area(self):\n",
        "    return self.a * self.a  \n",
        "\n",
        "try:\n",
        "  Figure()\n",
        "except TypeError as error:\n",
        "  print(error)  \n"
      ],
      "execution_count": 2,
      "outputs": [
        {
          "output_type": "stream",
          "text": [
            "Can't instantiate abstract class Figure with abstract methods area\n"
          ],
          "name": "stdout"
        }
      ]
    },
    {
      "cell_type": "code",
      "metadata": {
        "colab": {
          "base_uri": "https://localhost:8080/"
        },
        "id": "35qEhqbek1zj",
        "outputId": "c001274c-2871-474e-8956-65f5d188f85b"
      },
      "source": [
        "from abc import ABC, abstractmethod \n",
        "\n",
        "class Figure(ABC):\n",
        "  pass\n",
        "\n",
        "  @abstractmethod \n",
        "  def area(self):\n",
        "    pass\n",
        "\n",
        "  @abstractmethod\n",
        "  def perimeter(self):\n",
        "    pass\n",
        "\n",
        "class Square(Figure):\n",
        "\n",
        "  def __init__(self,a):\n",
        "    self.a = a\n",
        "\n",
        "  def area(self):\n",
        "    return self.a * self.a \n",
        "\n",
        "  def perimeter(self):\n",
        "    return self.a * 4  \n",
        "\n",
        "square = Square(10)\n",
        "print(square.area())\n",
        "print(square.perimeter())    "
      ],
      "execution_count": 3,
      "outputs": [
        {
          "output_type": "stream",
          "text": [
            "100\n",
            "40\n"
          ],
          "name": "stdout"
        }
      ]
    },
    {
      "cell_type": "code",
      "metadata": {
        "colab": {
          "base_uri": "https://localhost:8080/"
        },
        "id": "1_fRI4jxmDiR",
        "outputId": "e22d831c-0cf2-425a-d3a1-f44f6b8a6e59"
      },
      "source": [
        "from abc import ABC, abstractmethod\n",
        "class TaxPayer(ABC):\n",
        "  \n",
        "  def __init__(self,salary):\n",
        "    self.salary = salary\n",
        "\n",
        "  @abstractmethod\n",
        "  def calculate_tax(self):\n",
        "    pass \n",
        "\n",
        "class StudentTaxPayer(TaxPayer):\n",
        "\n",
        "  def ___init__(self, salary):  #no hace falta volverlo a definir\n",
        "    TaxPayer.__init__(self,salary)\n",
        "\n",
        "  def calculate_tax(self):\n",
        "    return self.salary * 0.15  \n",
        "\n",
        "student = StudentTaxPayer(40000)\n",
        "print(student.calculate_tax())\n",
        "\n",
        "\n"
      ],
      "execution_count": 4,
      "outputs": [
        {
          "output_type": "stream",
          "text": [
            "6000.0\n"
          ],
          "name": "stdout"
        }
      ]
    },
    {
      "cell_type": "code",
      "metadata": {
        "colab": {
          "base_uri": "https://localhost:8080/"
        },
        "id": "AhLtziC9onch",
        "outputId": "3468d16e-7962-4c45-be79-2947bb372b74"
      },
      "source": [
        "class DisabledTaxPayer(TaxPayer):\n",
        "    def ___init__(self, salary):    #no hace falta volverlo a definir\n",
        "      TaxPayer.__init__(self,salary)\n",
        "\n",
        "    def calculate_tax(self):\n",
        "      return min(5000, self.salary * .15)\n",
        "\n",
        "disabled = DisabledTaxPayer(50000)\n",
        "print(disabled.calculate_tax())      \n"
      ],
      "execution_count": 7,
      "outputs": [
        {
          "output_type": "stream",
          "text": [
            "5000\n"
          ],
          "name": "stdout"
        }
      ]
    },
    {
      "cell_type": "code",
      "metadata": {
        "colab": {
          "base_uri": "https://localhost:8080/"
        },
        "id": "-xkwzvkbp6ze",
        "outputId": "d3153ab1-e136-480f-87f7-ddaa6425b47e"
      },
      "source": [
        "class WorkerTaxPayer(TaxPayer):\n",
        "    def ___init__(self, salary):  #no hace falta volverlo a definir\n",
        "      TaxPayer.__init__(self,salary)\n",
        "\n",
        "    def calculate_tax(self):\n",
        "      if self.salary > 80000:\n",
        "        return (self.salary - 80000)*.32 + 80000*.17\n",
        "      return self.salary * .17\n",
        "\n",
        "worker1 = WorkerTaxPayer(70000)\n",
        "print(worker1.calculate_tax())\n",
        "worker2 = WorkerTaxPayer(95000)\n",
        "print(worker2.calculate_tax())      \n",
        "   \n",
        "\n",
        "\n"
      ],
      "execution_count": 13,
      "outputs": [
        {
          "output_type": "stream",
          "text": [
            "11900.0\n",
            "18400.0\n"
          ],
          "name": "stdout"
        }
      ]
    },
    {
      "cell_type": "code",
      "metadata": {
        "colab": {
          "base_uri": "https://localhost:8080/"
        },
        "id": "UdQXKXJqtgx_",
        "outputId": "b2c4d01c-6d80-4dfb-d976-7643c33f4974"
      },
      "source": [
        "student = StudentTaxPayer(50000)\n",
        "disabled = DisabledTaxPayer(70000)\n",
        "worker1 = WorkerTaxPayer(68000)\n",
        "worker2 = WorkerTaxPayer(120000)\n",
        "lst = [student, disabled, worker1, worker2]\n",
        "for people in lst:\n",
        "  print(people.calculate_tax())\n"
      ],
      "execution_count": 14,
      "outputs": [
        {
          "output_type": "stream",
          "text": [
            "7500.0\n",
            "5000\n",
            "11560.0\n",
            "26400.0\n"
          ],
          "name": "stdout"
        }
      ]
    },
    {
      "cell_type": "markdown",
      "metadata": {
        "id": "pPD5FFjvk1Jl"
      },
      "source": [
        ""
      ]
    }
  ]
}