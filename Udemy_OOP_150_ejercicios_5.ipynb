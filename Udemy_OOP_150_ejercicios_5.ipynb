{
  "nbformat": 4,
  "nbformat_minor": 0,
  "metadata": {
    "colab": {
      "name": "Udemy_OOP_150_ejercicios -5.ipynb",
      "provenance": [],
      "authorship_tag": "ABX9TyOFdiJmCCCYpu5kl5YyzOHf",
      "include_colab_link": true
    },
    "kernelspec": {
      "name": "python3",
      "display_name": "Python 3"
    }
  },
  "cells": [
    {
      "cell_type": "markdown",
      "metadata": {
        "id": "view-in-github",
        "colab_type": "text"
      },
      "source": [
        "<a href=\"https://colab.research.google.com/github/edouardor/test-colab/blob/main/Udemy_OOP_150_ejercicios_5.ipynb\" target=\"_parent\"><img src=\"https://colab.research.google.com/assets/colab-badge.svg\" alt=\"Open In Colab\"/></a>"
      ]
    },
    {
      "cell_type": "code",
      "metadata": {
        "id": "SITO3TqTWA4u"
      },
      "source": [
        ""
      ],
      "execution_count": null,
      "outputs": []
    },
    {
      "cell_type": "markdown",
      "metadata": {
        "id": "dLErtcodWBz9"
      },
      "source": [
        "# Udemy 150+ Exercises - Object Oriented Programming in Python - OOP - 5\n",
        "### Sección 17:Inheritance"
      ]
    },
    {
      "cell_type": "code",
      "metadata": {
        "id": "NQFBIy_FWduq"
      },
      "source": [
        "class Container:\n",
        "  pass\n",
        "\n",
        "class PlasticContainer(Container):\n",
        "  pass\n",
        "\n",
        "class MetalContainer(Container):\n",
        "  pass    "
      ],
      "execution_count": 5,
      "outputs": []
    },
    {
      "cell_type": "code",
      "metadata": {
        "colab": {
          "base_uri": "https://localhost:8080/"
        },
        "id": "am94ItEdXeNC",
        "outputId": "2550a324-ff1c-4e74-e1be-f8b826927d16"
      },
      "source": [
        "class CustomContainer:\n",
        "    pass\n",
        "\n",
        "print(issubclass(PlasticContainer,Container))\n",
        "print(issubclass(MetalContainer,Container))\n",
        "print(issubclass(CustomContainer,Container))"
      ],
      "execution_count": 6,
      "outputs": [
        {
          "output_type": "stream",
          "text": [
            "True\n",
            "True\n",
            "False\n"
          ],
          "name": "stdout"
        }
      ]
    },
    {
      "cell_type": "code",
      "metadata": {
        "colab": {
          "base_uri": "https://localhost:8080/"
        },
        "id": "QMe9p5lHbvyz",
        "outputId": "584f718f-1be6-4442-99a1-d897738d93f1"
      },
      "source": [
        "class SmallPlasticContainer(PlasticContainer):\n",
        "    pass\n",
        "\n",
        "print(SmallPlasticContainer.mro())    "
      ],
      "execution_count": 10,
      "outputs": [
        {
          "output_type": "stream",
          "text": [
            "[<class '__main__.SmallPlasticContainer'>, <class '__main__.PlasticContainer'>, <class '__main__.Container'>, <class 'object'>]\n"
          ],
          "name": "stdout"
        }
      ]
    },
    {
      "cell_type": "code",
      "metadata": {
        "colab": {
          "base_uri": "https://localhost:8080/"
        },
        "id": "EAJYI6LXrU_A",
        "outputId": "d3256772-232c-47a4-88f9-7567ae027875"
      },
      "source": [
        "class Vehicle:\n",
        "\n",
        "    def __init__(self, category=None):\n",
        "        self.category = category if category else 'land vehicle'\n",
        "    \n",
        "    def __repr__(self):\n",
        "      return f\"{self.__class__.__name__}(category='{self.category}')\"\n",
        "    \n",
        "class LandVehicle(Vehicle):\n",
        "    pass\n",
        "\n",
        "\n",
        "class AirVehicle(Vehicle):\n",
        "\n",
        "    def __init__(self, category=None):\n",
        "        self.category = category if category else 'air vehicle'   \n",
        "\n",
        "\n",
        "instances = [Vehicle(), LandVehicle(), AirVehicle()]\n",
        "\n",
        "for instance in instances:\n",
        "    print(instance)"
      ],
      "execution_count": 18,
      "outputs": [
        {
          "output_type": "stream",
          "text": [
            "Vehicle(category='land vehicle')\n",
            "LandVehicle(category='land vehicle')\n",
            "AirVehicle(category='air vehicle')\n"
          ],
          "name": "stdout"
        }
      ]
    },
    {
      "cell_type": "code",
      "metadata": {
        "colab": {
          "base_uri": "https://localhost:8080/"
        },
        "id": "eYDx6PUKv0IU",
        "outputId": "bc5c3f5c-a48e-4853-c7b5-11c3ea8dc990"
      },
      "source": [
        "class Vehicle:\n",
        "\n",
        "    def __init__(self, category=None):\n",
        "        self.category = category if category else 'land vehicle'\n",
        "    \n",
        "    def display_info(self):\n",
        "        print(f\"{self.__class__.__name__} -> {self.category}\")\n",
        "    \n",
        "class LandVehicle(Vehicle):\n",
        "    pass\n",
        "\n",
        "\n",
        "class AirVehicle(Vehicle):\n",
        "\n",
        "    def __init__(self, category=None):\n",
        "        self.category = category if category else 'air vehicle'   \n",
        "\n",
        "\n",
        "instances = [Vehicle(), LandVehicle(), AirVehicle()]\n",
        "\n",
        "for instance in instances:\n",
        "    instance.display_info()"
      ],
      "execution_count": 23,
      "outputs": [
        {
          "output_type": "stream",
          "text": [
            "Vehicle -> land vehicle\n",
            "LandVehicle -> land vehicle\n",
            "AirVehicle -> air vehicle\n"
          ],
          "name": "stdout"
        }
      ]
    },
    {
      "cell_type": "code",
      "metadata": {
        "colab": {
          "base_uri": "https://localhost:8080/"
        },
        "id": "J8KYAmJ3ybLL",
        "outputId": "6d2d6c34-979b-4974-d550-0252889beeec"
      },
      "source": [
        "class Vehicle:\n",
        "\n",
        "    def __init__(self, brand, color, year):\n",
        "        self.brand = brand\n",
        "        self.color = color\n",
        "        self.year = year\n",
        "\n",
        "class Car(Vehicle):\n",
        "\n",
        "    def __init__(self, brand, color, year, horsepower):\n",
        "        self.brand = brand\n",
        "        self.color = color\n",
        "        self.year = year\n",
        "        self.horsepower = horsepower\n",
        "\n",
        "v1 = Vehicle('Tesla','red',2020)\n",
        "c1 = Car('Tesla','red',2020,300)  \n",
        "print(v1.__dict__)\n",
        "print(c1.__dict__)      \n"
      ],
      "execution_count": 27,
      "outputs": [
        {
          "output_type": "stream",
          "text": [
            "{'brand': 'Tesla', 'color': 'red', 'year': 2020}\n",
            "{'brand': 'Tesla', 'color': 'red', 'year': 2020, 'horsepower': 300}\n"
          ],
          "name": "stdout"
        }
      ]
    },
    {
      "cell_type": "markdown",
      "metadata": {
        "id": "IXMY8Ivl5s6U"
      },
      "source": [
        "When you override a method, you sometimes want to reuse the method of the base class and add some new stuff.\n",
        "\n",
        "You can achieve this by using the super() Function.\n",
        "\n",
        "To demonstrate this, let’s redefine our Vehicle and Car class, but this time with the __init__() method\n",
        "\n",
        "We used super() to make sure the car can do everything a vehicle can, plus more.\n",
        "\n",
        "There’s another benefit; if the definition of Vehicle changes in the future, the super() will ensure that all the changes will be reflected.\n",
        "\n",
        "(from https://www.learnbyexample.org/python-inheritance/)"
      ]
    },
    {
      "cell_type": "code",
      "metadata": {
        "colab": {
          "base_uri": "https://localhost:8080/"
        },
        "id": "8j7km6LS3seu",
        "outputId": "2170437b-f35f-42c7-cdc0-7a8b00aa73f8"
      },
      "source": [
        "class Vehicle:\n",
        "\n",
        "    def __init__(self, brand, color, year):\n",
        "        self.brand = brand\n",
        "        self.color = color\n",
        "        self.year = year\n",
        "\n",
        "class Car(Vehicle):\n",
        "\n",
        "    def __init__(self, brand, color, year, horsepower):\n",
        "        super().__init__(brand, color, year)\n",
        "        self.horsepower = horsepower\n",
        "\n",
        "v1 = Vehicle('Tesla','red',2020)\n",
        "c1 = Car('Tesla','red',2020,300)  \n",
        "print(v1.__dict__)\n",
        "print(c1.__dict__)"
      ],
      "execution_count": 30,
      "outputs": [
        {
          "output_type": "stream",
          "text": [
            "{'brand': 'Tesla', 'color': 'red', 'year': 2020}\n",
            "{'brand': 'Tesla', 'color': 'red', 'year': 2020, 'horsepower': 300}\n"
          ],
          "name": "stdout"
        }
      ]
    },
    {
      "cell_type": "code",
      "metadata": {
        "colab": {
          "base_uri": "https://localhost:8080/"
        },
        "id": "wATqM3SA7KvB",
        "outputId": "50705e45-ecdc-48e8-83e6-5f917901f46f"
      },
      "source": [
        "class Vehicle:\n",
        "\n",
        "    def __init__(self, brand, color, year):\n",
        "        self.brand = brand\n",
        "        self.color = color\n",
        "        self.year = year\n",
        "\n",
        "    def display_attrs(self):\n",
        "      for attr,value in self.__dict__.items():\n",
        "        print(f'{attr} -> {value}')\n",
        "\n",
        "\n",
        "class Car(Vehicle):\n",
        "\n",
        "    def __init__(self, brand, color, year, horsepower):\n",
        "        super().__init__(brand, color, year)\n",
        "        self.horsepower = horsepower\n",
        "\n",
        "car = Car('Opel','black',2018,160)\n",
        "car.display_attrs()"
      ],
      "execution_count": 34,
      "outputs": [
        {
          "output_type": "stream",
          "text": [
            "brand -> Opel\n",
            "color -> black\n",
            "year -> 2018\n",
            "horsepower -> 190\n"
          ],
          "name": "stdout"
        }
      ]
    },
    {
      "cell_type": "code",
      "metadata": {
        "colab": {
          "base_uri": "https://localhost:8080/"
        },
        "id": "fQAVQbrb9oMj",
        "outputId": "a52894e2-16d8-4c08-d4eb-bba0dba067e3"
      },
      "source": [
        "class Vehicle:\n",
        "\n",
        "    def __init__(self, brand, color, year):\n",
        "        self.brand = brand\n",
        "        self.color = color\n",
        "        self.year = year\n",
        "\n",
        "    def display_attrs(self):\n",
        "      print(f'Calling from class: {self.__class__.__name__}')\n",
        "      for attr,value in self.__dict__.items():\n",
        "        print(f'{attr} -> {value}')\n",
        "\n",
        "\n",
        "class Car(Vehicle):\n",
        "\n",
        "    def __init__(self, brand, color, year, horsepower):\n",
        "        super().__init__(brand, color, year)\n",
        "        self.horsepower = horsepower\n",
        "\n",
        "car = Car('Opel','black',2018,160)\n",
        "car.display_attrs()"
      ],
      "execution_count": 35,
      "outputs": [
        {
          "output_type": "stream",
          "text": [
            "Calling from class: Car\n",
            "brand -> Opel\n",
            "color -> black\n",
            "year -> 2018\n",
            "horsepower -> 160\n"
          ],
          "name": "stdout"
        }
      ]
    }
  ]
}