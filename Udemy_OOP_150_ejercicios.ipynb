{
  "nbformat": 4,
  "nbformat_minor": 0,
  "metadata": {
    "colab": {
      "name": "Udemy OOP 150 ejercicios.ipynb",
      "provenance": [],
      "authorship_tag": "ABX9TyPHtxXF/P6PZ6drgVC/Cq6Q",
      "include_colab_link": true
    },
    "kernelspec": {
      "name": "python3",
      "display_name": "Python 3"
    }
  },
  "cells": [
    {
      "cell_type": "markdown",
      "metadata": {
        "id": "view-in-github",
        "colab_type": "text"
      },
      "source": [
        "<a href=\"https://colab.research.google.com/github/edouardor/test-colab/blob/main/Udemy_OOP_150_ejercicios.ipynb\" target=\"_parent\"><img src=\"https://colab.research.google.com/assets/colab-badge.svg\" alt=\"Open In Colab\"/></a>"
      ]
    },
    {
      "cell_type": "markdown",
      "metadata": {
        "id": "yuqgLqcSBw_b"
      },
      "source": [
        "### Udemy 150+ Exercises - Object Oriented Programming in Python - OOP"
      ]
    },
    {
      "cell_type": "markdown",
      "metadata": {
        "id": "sPK6ohVcBu1r"
      },
      "source": [
        ""
      ]
    },
    {
      "cell_type": "markdown",
      "metadata": {
        "id": "2Vp49AWcCB9N"
      },
      "source": [
        "Exercise 1 \n",
        "\n",
        "Print the Python version in the console"
      ]
    },
    {
      "cell_type": "code",
      "metadata": {
        "colab": {
          "base_uri": "https://localhost:8080/"
        },
        "id": "mcP-qoNGCUMe",
        "outputId": "ec3997bd-b185-4004-cc2c-301735354ac1"
      },
      "source": [
        "import sys\n",
        "print(sys.version)"
      ],
      "execution_count": 2,
      "outputs": [
        {
          "output_type": "stream",
          "text": [
            "3.6.9 (default, Oct  8 2020, 12:12:24) \n",
            "[GCC 8.4.0]\n"
          ],
          "name": "stdout"
        }
      ]
    },
    {
      "cell_type": "markdown",
      "metadata": {
        "id": "usI7WgRjFN41"
      },
      "source": [
        "### Sección 4:Namespaces and Scopes\n",
        "Exercise 1\n",
        "\n",
        "import the built-in datetime module and display the namespace of this module (sorted alphabetically)"
      ]
    },
    {
      "cell_type": "code",
      "metadata": {
        "colab": {
          "base_uri": "https://localhost:8080/"
        },
        "id": "QqAoQ6RMCcDp",
        "outputId": "0d8f8956-6241-4ef7-9a65-485f3d7be110"
      },
      "source": [
        "import datetime \n",
        "for k in sorted(datetime.__dict__):\n",
        "  print(k)"
      ],
      "execution_count": 5,
      "outputs": [
        {
          "output_type": "stream",
          "text": [
            "MAXYEAR\n",
            "MINYEAR\n",
            "__builtins__\n",
            "__cached__\n",
            "__doc__\n",
            "__file__\n",
            "__loader__\n",
            "__name__\n",
            "__package__\n",
            "__spec__\n",
            "date\n",
            "datetime\n",
            "datetime_CAPI\n",
            "sys\n",
            "time\n",
            "timedelta\n",
            "timezone\n",
            "tzinfo\n"
          ],
          "name": "stdout"
        }
      ]
    },
    {
      "cell_type": "markdown",
      "metadata": {
        "id": "Uy0vP2yBmIfO"
      },
      "source": [
        "### Exercise 2:\n",
        "The Product class is given below. Display the namespace (value of the ______dict__ attribute) of this class\n"
      ]
    },
    {
      "cell_type": "code",
      "metadata": {
        "colab": {
          "base_uri": "https://localhost:8080/"
        },
        "id": "GGIL6qggDFvK",
        "outputId": "15e06107-2a80-4353-bb79-5effa5f461dd"
      },
      "source": [
        "import uuid\n",
        "\n",
        "\n",
        "class Product:\n",
        "\n",
        "    def __init__(self, product_name, price):\n",
        "        self.product_id = self.get_id()\n",
        "        self.product_name = product_name\n",
        "        self.price = price\n",
        "\n",
        "    def __repr__(self):\n",
        "        return f\"Product(product_name='{self.product_name}', price={self.price})\"\n",
        "\n",
        "    @staticmethod\n",
        "    def get_id():\n",
        "        return str(uuid.uuid4().fields[-1])[:6]\n",
        "\n",
        "for name in Product.__dict__:\n",
        "    print(name) \n",
        "          "
      ],
      "execution_count": 2,
      "outputs": [
        {
          "output_type": "stream",
          "text": [
            "__module__\n",
            "__init__\n",
            "__repr__\n",
            "get_id\n",
            "__dict__\n",
            "__weakref__\n",
            "__doc__\n"
          ],
          "name": "stdout"
        }
      ]
    },
    {
      "cell_type": "code",
      "metadata": {
        "id": "GWu-FLgaHBvR"
      },
      "source": [
        ""
      ],
      "execution_count": null,
      "outputs": []
    },
    {
      "cell_type": "markdown",
      "metadata": {
        "id": "7vDZm3ZjlnBJ"
      },
      "source": [
        "### Exercise 3: \n",
        "\n",
        "An instance of the class named product has been created. Display the namespace value (value of the ______dict__ attribute) of this instance. \n"
      ]
    },
    {
      "cell_type": "code",
      "metadata": {
        "id": "vcscvoH6mFdL"
      },
      "source": [
        "import uuid\n",
        "\n",
        "\n",
        "class Product:\n",
        "\n",
        "    def __init__(self, product_name, product_id, price):\n",
        "        self.product_name = product_name\n",
        "        self.product_id = product_id\n",
        "        self.price = price\n",
        "\n",
        "    def __repr__(self):\n",
        "        return f\"Product(product_name='{self.product_name}', price={self.price})\"\n",
        "\n",
        "\n",
        "product = Product('Mobile Phone', '54274', 2900)"
      ],
      "execution_count": 5,
      "outputs": []
    },
    {
      "cell_type": "code",
      "metadata": {
        "colab": {
          "base_uri": "https://localhost:8080/"
        },
        "id": "sc5L0BxZnKif",
        "outputId": "6e4a8493-b444-423b-9498-6dd1bd5f0334"
      },
      "source": [
        "print(product.__dict__)"
      ],
      "execution_count": 6,
      "outputs": [
        {
          "output_type": "stream",
          "text": [
            "{'product_name': 'Mobile Phone', 'product_id': '54274', 'price': 2900}\n"
          ],
          "name": "stdout"
        }
      ]
    },
    {
      "cell_type": "markdown",
      "metadata": {
        "id": "GD2Iqys9oY6V"
      },
      "source": [
        "## Sección 5:The LEGB rule\n",
        "\n",
        "### Exercise 1:\n",
        "The stock_info() function is defined. Display the names of all arguments of this function."
      ]
    },
    {
      "cell_type": "code",
      "metadata": {
        "id": "mFZ8khi3n_kS"
      },
      "source": [
        "def stock_info(company, country, price, currency):\n",
        "    return f'Company: {company}\\nCountry: {country}\\nPrice: {currency} {price}'"
      ],
      "execution_count": 7,
      "outputs": []
    },
    {
      "cell_type": "code",
      "metadata": {
        "colab": {
          "base_uri": "https://localhost:8080/"
        },
        "id": "7y2wnoDLo7nd",
        "outputId": "2a32fcce-6a23-45ae-dfae-c72e1b852adb"
      },
      "source": [
        "print(stock_info.__code__.co_varnames)"
      ],
      "execution_count": 10,
      "outputs": [
        {
          "output_type": "stream",
          "text": [
            "('company', 'country', 'price', 'currency')\n"
          ],
          "name": "stdout"
        }
      ]
    },
    {
      "cell_type": "markdown",
      "metadata": {
        "id": "hipXtkYMsjpm"
      },
      "source": [
        "### Exercise 2:\n",
        "Import the sum() function. Call the function with the list [-4,3,2]"
      ]
    },
    {
      "cell_type": "code",
      "metadata": {
        "colab": {
          "base_uri": "https://localhost:8080/"
        },
        "id": "Pmuh5P7npGSH",
        "outputId": "0d1e434c-124e-48ce-ce71-006a0bf473e7"
      },
      "source": [
        "print(sum.__doc__)\n"
      ],
      "execution_count": 14,
      "outputs": [
        {
          "output_type": "stream",
          "text": [
            "Return the sum of a 'start' value (default: 0) plus an iterable of numbers\n",
            "\n",
            "When the iterable is empty, return the start value.\n",
            "This function is intended specifically for use with numeric values and may\n",
            "reject non-numeric types.\n"
          ],
          "name": "stdout"
        }
      ]
    },
    {
      "cell_type": "code",
      "metadata": {
        "colab": {
          "base_uri": "https://localhost:8080/"
        },
        "id": "2dOTLOaRtLIt",
        "outputId": "83c7f151-c992-4976-85ff-3642cf985574"
      },
      "source": [
        "sum([-4,3,2])"
      ],
      "execution_count": 15,
      "outputs": [
        {
          "output_type": "execute_result",
          "data": {
            "text/plain": [
              "1"
            ]
          },
          "metadata": {
            "tags": []
          },
          "execution_count": 15
        }
      ]
    },
    {
      "cell_type": "code",
      "metadata": {
        "colab": {
          "base_uri": "https://localhost:8080/"
        },
        "id": "52wc1gXptnpF",
        "outputId": "fad5a576-8e69-4ccd-f5b3-d6bae75c1ef6"
      },
      "source": [
        "#import builtins\n",
        "help(builtins.sum)\n",
        "print(sum([-4,3,2]))"
      ],
      "execution_count": 17,
      "outputs": [
        {
          "output_type": "stream",
          "text": [
            "Help on built-in function sum in module builtins:\n",
            "\n",
            "sum(iterable, start=0, /)\n",
            "    Return the sum of a 'start' value (default: 0) plus an iterable of numbers\n",
            "    \n",
            "    When the iterable is empty, return the start value.\n",
            "    This function is intended specifically for use with numeric values and may\n",
            "    reject non-numeric types.\n",
            "\n",
            "1\n"
          ],
          "name": "stdout"
        }
      ]
    },
    {
      "cell_type": "code",
      "metadata": {
        "colab": {
          "base_uri": "https://localhost:8080/"
        },
        "id": "CAKdiwb9vxkz",
        "outputId": "f8245f7d-dc44-412b-f076-b1f137b55c60"
      },
      "source": [
        "help(sum)"
      ],
      "execution_count": 18,
      "outputs": [
        {
          "output_type": "stream",
          "text": [
            "Help on built-in function sum in module builtins:\n",
            "\n",
            "sum(iterable, start=0, /)\n",
            "    Return the sum of a 'start' value (default: 0) plus an iterable of numbers\n",
            "    \n",
            "    When the iterable is empty, return the start value.\n",
            "    This function is intended specifically for use with numeric values and may\n",
            "    reject non-numeric types.\n",
            "\n"
          ],
          "name": "stdout"
        }
      ]
    },
    {
      "cell_type": "markdown",
      "metadata": {
        "id": "TUiampamwZ0x"
      },
      "source": [
        "### Exercise 3:\n",
        "A global variable counter is given with an incorrectly implemented update_counter() function. Correct the implementation and call it."
      ]
    },
    {
      "cell_type": "code",
      "metadata": {
        "id": "TeMMullWwArn"
      },
      "source": [
        "counter = 1\n",
        "\n",
        "def update_counter():\n",
        "  global counter\n",
        "  counter +=1\n",
        "  print(counter)"
      ],
      "execution_count": 22,
      "outputs": []
    },
    {
      "cell_type": "code",
      "metadata": {
        "colab": {
          "base_uri": "https://localhost:8080/"
        },
        "id": "aIJVkb8gxMKw",
        "outputId": "3b3bbc52-6afe-497a-d477-0e4df72d3014"
      },
      "source": [
        "update_counter()"
      ],
      "execution_count": 23,
      "outputs": [
        {
          "output_type": "stream",
          "text": [
            "2\n"
          ],
          "name": "stdout"
        }
      ]
    },
    {
      "cell_type": "code",
      "metadata": {
        "id": "Um_ECRgExQ_5"
      },
      "source": [
        ""
      ],
      "execution_count": null,
      "outputs": []
    }
  ]
}