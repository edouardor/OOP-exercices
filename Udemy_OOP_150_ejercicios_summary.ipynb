{
  "nbformat": 4,
  "nbformat_minor": 0,
  "metadata": {
    "colab": {
      "name": "Udemy_OOP_150_ejercicios - summary.ipynb",
      "provenance": [],
      "authorship_tag": "ABX9TyMTJyjCzLqxKfJ/Ql1pYZQT",
      "include_colab_link": true
    },
    "kernelspec": {
      "name": "python3",
      "display_name": "Python 3"
    }
  },
  "cells": [
    {
      "cell_type": "markdown",
      "metadata": {
        "id": "view-in-github",
        "colab_type": "text"
      },
      "source": [
        "<a href=\"https://colab.research.google.com/github/edouardor/OOP-exercices/blob/main/Udemy_OOP_150_ejercicios_summary.ipynb\" target=\"_parent\"><img src=\"https://colab.research.google.com/assets/colab-badge.svg\" alt=\"Open In Colab\"/></a>"
      ]
    },
    {
      "cell_type": "markdown",
      "metadata": {
        "id": "pt1TQyRPvR3-"
      },
      "source": [
        "## Sección 19:Summary"
      ]
    },
    {
      "cell_type": "code",
      "metadata": {
        "colab": {
          "base_uri": "https://localhost:8080/"
        },
        "id": "1Eca10evyFbC",
        "outputId": "bc3270de-02d2-4a84-b7e1-03ee5a8b217d"
      },
      "source": [
        "class Person:\n",
        "\n",
        "    def __init__(self, name, age):\n",
        "        self.name = name\n",
        "        self.age = age\n",
        "\n",
        "\n",
        "people = [Person('Tom', 25), Person('John', 29),\n",
        "          Person('Mike', 27), Person('Alice', 19)]\n",
        "\n",
        "people.sort(key = lambda x: x.age)\n",
        "for x in people:\n",
        "  print(f'{x.name} -> {x.age}')          "
      ],
      "execution_count": 4,
      "outputs": [
        {
          "output_type": "stream",
          "text": [
            "Alice -> 19\n",
            "Tom -> 25\n",
            "Mike -> 27\n",
            "John -> 29\n"
          ],
          "name": "stdout"
        }
      ]
    },
    {
      "cell_type": "code",
      "metadata": {
        "colab": {
          "base_uri": "https://localhost:8080/"
        },
        "id": "hm401g1Oz6JA",
        "outputId": "78fa35c6-7e80-4049-ba83-41973ba5aa14"
      },
      "source": [
        "class Point:\n",
        "\n",
        "    def __init__(self, x, y):\n",
        "        self.x = x \n",
        "        self.y = y\n",
        "\n",
        "    def __repr__(self):\n",
        "        return f\"Point(x={self.x}, y={self.y})\"\n",
        "\n",
        "    def reset(self):\n",
        "      self.x = 0\n",
        "      self.y = 0\n",
        "\n",
        "point = Point(4,2)\n",
        "print(point)\n",
        "point.reset()\n",
        "print(point)"
      ],
      "execution_count": 5,
      "outputs": [
        {
          "output_type": "stream",
          "text": [
            "Point(x=4, y=2)\n",
            "Point(x=0, y=0)\n"
          ],
          "name": "stdout"
        }
      ]
    },
    {
      "cell_type": "code",
      "metadata": {
        "colab": {
          "base_uri": "https://localhost:8080/"
        },
        "id": "T-TMQwXo03Bf",
        "outputId": "d70ca736-4dd3-42aa-e7af-c476efbfe393"
      },
      "source": [
        "import math\n",
        "class Point:\n",
        "\n",
        "    def __init__(self, x, y):\n",
        "        self.x = x \n",
        "        self.y = y\n",
        "\n",
        "    def __repr__(self):\n",
        "        return f\"Point(x={self.x}, y={self.y})\"\n",
        "\n",
        "    def reset(self):\n",
        "      self.x = 0\n",
        "      self.y = 0\n",
        "\n",
        "    def calc_distance(self,other):\n",
        "      return ((self.x - other.x)**2 + (self.y - other.y)**2)**.5 \n",
        "\n",
        "p1 = Point(0,3)\n",
        "p2 = Point(4,0)\n",
        "print(p1.calc_distance(p2))       \n"
      ],
      "execution_count": 7,
      "outputs": [
        {
          "output_type": "stream",
          "text": [
            "5.0\n"
          ],
          "name": "stdout"
        }
      ]
    },
    {
      "cell_type": "code",
      "metadata": {
        "id": "BRaSSTg6Ihc5"
      },
      "source": [
        "from datetime import datetime\n",
        "\n",
        "class Note:\n",
        "  def __init__(self,content):\n",
        "    self.content = content\n",
        "    self.creation_time = datetime.now().strftime('%m-%d-%Y %H:%M:%S')\n",
        "\n",
        "\n",
        "note1 = Note('My first note.')\n",
        "note2 = Note('My second note.')\n",
        "  "
      ],
      "execution_count": 1,
      "outputs": []
    },
    {
      "cell_type": "code",
      "metadata": {
        "colab": {
          "base_uri": "https://localhost:8080/"
        },
        "id": "CjreEcJpNwM0",
        "outputId": "246aa76b-7458-436a-9f5c-1aaf98a3ba50"
      },
      "source": [
        "from datetime import datetime\n",
        "\n",
        "class Note:\n",
        "  def __init__(self,content):\n",
        "    self.content = content\n",
        "    self.creation_time = datetime.now().strftime('%m-%d-%Y %H:%M:%S')\n",
        "\n",
        "  def find(self, word):\n",
        "    return self.content.find(word) != -1  #return word in self.content  \n",
        "\n",
        "note1 = Note('Object Oriented Programming in Python.') \n",
        "print(note1.find('python'))\n",
        "print(note1.find('Python'))   \n"
      ],
      "execution_count": 3,
      "outputs": [
        {
          "output_type": "stream",
          "text": [
            "False\n",
            "True\n"
          ],
          "name": "stdout"
        }
      ]
    },
    {
      "cell_type": "code",
      "metadata": {
        "colab": {
          "base_uri": "https://localhost:8080/"
        },
        "id": "m2hhmxR-QFrO",
        "outputId": "6aa9ffc3-b5a8-41f2-88d5-61a868601e53"
      },
      "source": [
        "from datetime import datetime\n",
        "\n",
        "class Note:\n",
        "  def __init__(self,content):\n",
        "    self.content = content\n",
        "    self.creation_time = datetime.now().strftime('%m-%d-%Y %H:%M:%S')\n",
        "\n",
        "  def find(self, word):\n",
        "    return word.lower() in self.content.lower()  \n",
        "\n",
        "note1 = Note('Object Oriented Programming in Python.') \n",
        "print(note1.find('python'))\n",
        "print(note1.find('Python'))"
      ],
      "execution_count": 6,
      "outputs": [
        {
          "output_type": "stream",
          "text": [
            "True\n",
            "True\n"
          ],
          "name": "stdout"
        }
      ]
    },
    {
      "cell_type": "code",
      "metadata": {
        "colab": {
          "base_uri": "https://localhost:8080/"
        },
        "id": "qj5QNXjbMKv1",
        "outputId": "5864f078-f6d8-47e6-a98c-5a9eb91e4e5c"
      },
      "source": [
        "import datetime\n",
        "\n",
        "\n",
        "class Note:\n",
        "\n",
        "    def __init__(self, content):\n",
        "        self.content = content\n",
        "        self.creation_time = datetime.datetime.now().strftime('%m-%d-%Y %H:%M:%S')\n",
        "        \n",
        "    def __repr__(self):\n",
        "        return f\"Note(content='{self.content}')\"        \n",
        "\n",
        "    def find(self, word):\n",
        "        return word.lower() in self.content.lower()\n",
        "\n",
        "    \n",
        "class Notebook:\n",
        "\n",
        "    def __init__(self):\n",
        "        self.notes = []\n",
        "\n",
        "    def new_note(self, content): #se añade el contenido de la nota(no la Nota())\n",
        "        self.notes.append(Note(content)) \n",
        "\n",
        "    def display_notes(self):\n",
        "      for note in self.notes:\n",
        "        print(note.content)\n",
        "\n",
        "notebook = Notebook()\n",
        "notebook.new_note('My first note.')\n",
        "notebook.new_note('My second note.') \n",
        "notebook.display_notes()       \n",
        "\n"
      ],
      "execution_count": 12,
      "outputs": [
        {
          "output_type": "stream",
          "text": [
            "My first note.\n",
            "My second note.\n"
          ],
          "name": "stdout"
        }
      ]
    },
    {
      "cell_type": "code",
      "metadata": {
        "colab": {
          "base_uri": "https://localhost:8080/"
        },
        "id": "f-zkpdo8TTLr",
        "outputId": "cc75681b-986f-4128-d977-262acd4e30f4"
      },
      "source": [
        "import datetime\n",
        "\n",
        "\n",
        "class Note:\n",
        "\n",
        "    def __init__(self, content):\n",
        "        self.content = content\n",
        "        self.creation_time = datetime.datetime.now().strftime('%m-%d-%Y %H:%M:%S')\n",
        "        \n",
        "    def __repr__(self):\n",
        "        return f\"Note(content='{self.content}')\"        \n",
        "\n",
        "    def find(self, word):\n",
        "        return word.lower() in self.content.lower()\n",
        "\n",
        "    \n",
        "class Notebook:\n",
        "\n",
        "    def __init__(self):\n",
        "        self.notes = []\n",
        "\n",
        "    def new_note(self, content): #se añade el contenido de la nota(no la Nota())\n",
        "        self.notes.append(Note(content)) \n",
        "\n",
        "    def display_notes(self):\n",
        "      for note in self.notes:\n",
        "        print(note.content)\n",
        "\n",
        "    def search(self,word):' \n",
        "      return [note for note in self.notes if note.find(word)] \n",
        "\n",
        "notebook = Notebook()\n",
        "notebook.new_note('Big Data')\n",
        "notebook.new_note('Data Science')\n",
        "notebook.new_note('Machine Learning')    \n",
        "\n",
        "print(notebook.search('data'))  \n",
        "\n",
        "\n"
      ],
      "execution_count": 14,
      "outputs": [
        {
          "output_type": "execute_result",
          "data": {
            "text/plain": [
              "[Note(content='Big Data'), Note(content='Data Science')]"
            ]
          },
          "metadata": {
            "tags": []
          },
          "execution_count": 14
        }
      ]
    }
  ]
}