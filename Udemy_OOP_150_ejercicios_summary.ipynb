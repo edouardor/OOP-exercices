{
  "nbformat": 4,
  "nbformat_minor": 0,
  "metadata": {
    "colab": {
      "name": "Udemy_OOP_150_ejercicios - summary.ipynb",
      "provenance": [],
      "authorship_tag": "ABX9TyPAP8PWKRb1MxKyskFUiwlo",
      "include_colab_link": true
    },
    "kernelspec": {
      "name": "python3",
      "display_name": "Python 3"
    }
  },
  "cells": [
    {
      "cell_type": "markdown",
      "metadata": {
        "id": "view-in-github",
        "colab_type": "text"
      },
      "source": [
        "<a href=\"https://colab.research.google.com/github/edouardor/OOP-exercices/blob/main/Udemy_OOP_150_ejercicios_summary.ipynb\" target=\"_parent\"><img src=\"https://colab.research.google.com/assets/colab-badge.svg\" alt=\"Open In Colab\"/></a>"
      ]
    },
    {
      "cell_type": "markdown",
      "metadata": {
        "id": "pt1TQyRPvR3-"
      },
      "source": [
        "## Sección 19:Summary"
      ]
    },
    {
      "cell_type": "code",
      "metadata": {
        "colab": {
          "base_uri": "https://localhost:8080/"
        },
        "id": "1Eca10evyFbC",
        "outputId": "bc3270de-02d2-4a84-b7e1-03ee5a8b217d"
      },
      "source": [
        "class Person:\n",
        "\n",
        "    def __init__(self, name, age):\n",
        "        self.name = name\n",
        "        self.age = age\n",
        "\n",
        "\n",
        "people = [Person('Tom', 25), Person('John', 29),\n",
        "          Person('Mike', 27), Person('Alice', 19)]\n",
        "\n",
        "people.sort(key = lambda x: x.age)\n",
        "for x in people:\n",
        "  print(f'{x.name} -> {x.age}')          "
      ],
      "execution_count": 4,
      "outputs": [
        {
          "output_type": "stream",
          "text": [
            "Alice -> 19\n",
            "Tom -> 25\n",
            "Mike -> 27\n",
            "John -> 29\n"
          ],
          "name": "stdout"
        }
      ]
    },
    {
      "cell_type": "code",
      "metadata": {
        "colab": {
          "base_uri": "https://localhost:8080/"
        },
        "id": "hm401g1Oz6JA",
        "outputId": "78fa35c6-7e80-4049-ba83-41973ba5aa14"
      },
      "source": [
        "class Point:\n",
        "\n",
        "    def __init__(self, x, y):\n",
        "        self.x = x \n",
        "        self.y = y\n",
        "\n",
        "    def __repr__(self):\n",
        "        return f\"Point(x={self.x}, y={self.y})\"\n",
        "\n",
        "    def reset(self):\n",
        "      self.x = 0\n",
        "      self.y = 0\n",
        "\n",
        "point = Point(4,2)\n",
        "print(point)\n",
        "point.reset()\n",
        "print(point)"
      ],
      "execution_count": 5,
      "outputs": [
        {
          "output_type": "stream",
          "text": [
            "Point(x=4, y=2)\n",
            "Point(x=0, y=0)\n"
          ],
          "name": "stdout"
        }
      ]
    },
    {
      "cell_type": "code",
      "metadata": {
        "colab": {
          "base_uri": "https://localhost:8080/"
        },
        "id": "T-TMQwXo03Bf",
        "outputId": "d70ca736-4dd3-42aa-e7af-c476efbfe393"
      },
      "source": [
        "import math\n",
        "class Point:\n",
        "\n",
        "    def __init__(self, x, y):\n",
        "        self.x = x \n",
        "        self.y = y\n",
        "\n",
        "    def __repr__(self):\n",
        "        return f\"Point(x={self.x}, y={self.y})\"\n",
        "\n",
        "    def reset(self):\n",
        "      self.x = 0\n",
        "      self.y = 0\n",
        "\n",
        "    def calc_distance(self,other):\n",
        "      return ((self.x - other.x)**2 + (self.y - other.y)**2)**.5 \n",
        "\n",
        "p1 = Point(0,3)\n",
        "p2 = Point(4,0)\n",
        "print(p1.calc_distance(p2))       \n"
      ],
      "execution_count": 7,
      "outputs": [
        {
          "output_type": "stream",
          "text": [
            "5.0\n"
          ],
          "name": "stdout"
        }
      ]
    }
  ]
}