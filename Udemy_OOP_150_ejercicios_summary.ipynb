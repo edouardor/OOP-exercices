{
  "nbformat": 4,
  "nbformat_minor": 0,
  "metadata": {
    "colab": {
      "name": "Udemy_OOP_150_ejercicios - summary.ipynb",
      "provenance": [],
      "authorship_tag": "ABX9TyNss9Fi6k8H+2Eww6BAviSG",
      "include_colab_link": true
    },
    "kernelspec": {
      "name": "python3",
      "display_name": "Python 3"
    }
  },
  "cells": [
    {
      "cell_type": "markdown",
      "metadata": {
        "id": "view-in-github",
        "colab_type": "text"
      },
      "source": [
        "<a href=\"https://colab.research.google.com/github/edouardor/OOP-exercices/blob/main/Udemy_OOP_150_ejercicios_summary.ipynb\" target=\"_parent\"><img src=\"https://colab.research.google.com/assets/colab-badge.svg\" alt=\"Open In Colab\"/></a>"
      ]
    },
    {
      "cell_type": "markdown",
      "metadata": {
        "id": "pt1TQyRPvR3-"
      },
      "source": [
        "## Sección 19:Summary"
      ]
    },
    {
      "cell_type": "code",
      "metadata": {
        "colab": {
          "base_uri": "https://localhost:8080/"
        },
        "id": "1Eca10evyFbC",
        "outputId": "bc3270de-02d2-4a84-b7e1-03ee5a8b217d"
      },
      "source": [
        "class Person:\n",
        "\n",
        "    def __init__(self, name, age):\n",
        "        self.name = name\n",
        "        self.age = age\n",
        "\n",
        "\n",
        "people = [Person('Tom', 25), Person('John', 29),\n",
        "          Person('Mike', 27), Person('Alice', 19)]\n",
        "\n",
        "people.sort(key = lambda x: x.age)\n",
        "for x in people:\n",
        "  print(f'{x.name} -> {x.age}')          "
      ],
      "execution_count": 4,
      "outputs": [
        {
          "output_type": "stream",
          "text": [
            "Alice -> 19\n",
            "Tom -> 25\n",
            "Mike -> 27\n",
            "John -> 29\n"
          ],
          "name": "stdout"
        }
      ]
    },
    {
      "cell_type": "code",
      "metadata": {
        "colab": {
          "base_uri": "https://localhost:8080/"
        },
        "id": "hm401g1Oz6JA",
        "outputId": "78fa35c6-7e80-4049-ba83-41973ba5aa14"
      },
      "source": [
        "class Point:\n",
        "\n",
        "    def __init__(self, x, y):\n",
        "        self.x = x \n",
        "        self.y = y\n",
        "\n",
        "    def __repr__(self):\n",
        "        return f\"Point(x={self.x}, y={self.y})\"\n",
        "\n",
        "    def reset(self):\n",
        "      self.x = 0\n",
        "      self.y = 0\n",
        "\n",
        "point = Point(4,2)\n",
        "print(point)\n",
        "point.reset()\n",
        "print(point)"
      ],
      "execution_count": 5,
      "outputs": [
        {
          "output_type": "stream",
          "text": [
            "Point(x=4, y=2)\n",
            "Point(x=0, y=0)\n"
          ],
          "name": "stdout"
        }
      ]
    },
    {
      "cell_type": "code",
      "metadata": {
        "colab": {
          "base_uri": "https://localhost:8080/"
        },
        "id": "T-TMQwXo03Bf",
        "outputId": "d70ca736-4dd3-42aa-e7af-c476efbfe393"
      },
      "source": [
        "import math\n",
        "class Point:\n",
        "\n",
        "    def __init__(self, x, y):\n",
        "        self.x = x \n",
        "        self.y = y\n",
        "\n",
        "    def __repr__(self):\n",
        "        return f\"Point(x={self.x}, y={self.y})\"\n",
        "\n",
        "    def reset(self):\n",
        "      self.x = 0\n",
        "      self.y = 0\n",
        "\n",
        "    def calc_distance(self,other):\n",
        "      return ((self.x - other.x)**2 + (self.y - other.y)**2)**.5 \n",
        "\n",
        "p1 = Point(0,3)\n",
        "p2 = Point(4,0)\n",
        "print(p1.calc_distance(p2))       \n"
      ],
      "execution_count": 7,
      "outputs": [
        {
          "output_type": "stream",
          "text": [
            "5.0\n"
          ],
          "name": "stdout"
        }
      ]
    },
    {
      "cell_type": "code",
      "metadata": {
        "id": "BRaSSTg6Ihc5"
      },
      "source": [
        "from datetime import datetime\n",
        "\n",
        "class Note:\n",
        "  def __init__(self,content):\n",
        "    self.content = content\n",
        "    self.creation_time = datetime.now().strftime('%m-%d-%Y %H:%M:%S')\n",
        "\n",
        "\n",
        "note1 = Note('My first note.')\n",
        "note2 = Note('My second note.')\n",
        "  "
      ],
      "execution_count": 1,
      "outputs": []
    },
    {
      "cell_type": "code",
      "metadata": {
        "colab": {
          "base_uri": "https://localhost:8080/"
        },
        "id": "CjreEcJpNwM0",
        "outputId": "246aa76b-7458-436a-9f5c-1aaf98a3ba50"
      },
      "source": [
        "from datetime import datetime\n",
        "\n",
        "class Note:\n",
        "  def __init__(self,content):\n",
        "    self.content = content\n",
        "    self.creation_time = datetime.now().strftime('%m-%d-%Y %H:%M:%S')\n",
        "\n",
        "  def find(self, word):\n",
        "    return self.content.find(word) != -1  #return word in self.content  \n",
        "\n",
        "note1 = Note('Object Oriented Programming in Python.') \n",
        "print(note1.find('python'))\n",
        "print(note1.find('Python'))   \n"
      ],
      "execution_count": 3,
      "outputs": [
        {
          "output_type": "stream",
          "text": [
            "False\n",
            "True\n"
          ],
          "name": "stdout"
        }
      ]
    },
    {
      "cell_type": "code",
      "metadata": {
        "colab": {
          "base_uri": "https://localhost:8080/"
        },
        "id": "m2hhmxR-QFrO",
        "outputId": "6aa9ffc3-b5a8-41f2-88d5-61a868601e53"
      },
      "source": [
        "from datetime import datetime\n",
        "\n",
        "class Note:\n",
        "  def __init__(self,content):\n",
        "    self.content = content\n",
        "    self.creation_time = datetime.now().strftime('%m-%d-%Y %H:%M:%S')\n",
        "\n",
        "  def find(self, word):\n",
        "    return word.lower() in self.content.lower()  \n",
        "\n",
        "note1 = Note('Object Oriented Programming in Python.') \n",
        "print(note1.find('python'))\n",
        "print(note1.find('Python'))"
      ],
      "execution_count": 6,
      "outputs": [
        {
          "output_type": "stream",
          "text": [
            "True\n",
            "True\n"
          ],
          "name": "stdout"
        }
      ]
    },
    {
      "cell_type": "code",
      "metadata": {
        "colab": {
          "base_uri": "https://localhost:8080/"
        },
        "id": "qj5QNXjbMKv1",
        "outputId": "5864f078-f6d8-47e6-a98c-5a9eb91e4e5c"
      },
      "source": [
        "import datetime\n",
        "\n",
        "\n",
        "class Note:\n",
        "\n",
        "    def __init__(self, content):\n",
        "        self.content = content\n",
        "        self.creation_time = datetime.datetime.now().strftime('%m-%d-%Y %H:%M:%S')\n",
        "        \n",
        "    def __repr__(self):\n",
        "        return f\"Note(content='{self.content}')\"        \n",
        "\n",
        "    def find(self, word):\n",
        "        return word.lower() in self.content.lower()\n",
        "\n",
        "    \n",
        "class Notebook:\n",
        "\n",
        "    def __init__(self):\n",
        "        self.notes = []\n",
        "\n",
        "    def new_note(self, content): #se añade el contenido de la nota(no la Nota())\n",
        "        self.notes.append(Note(content)) \n",
        "\n",
        "    def display_notes(self):\n",
        "      for note in self.notes:\n",
        "        print(note.content)\n",
        "\n",
        "notebook = Notebook()\n",
        "notebook.new_note('My first note.')\n",
        "notebook.new_note('My second note.') \n",
        "notebook.display_notes()       \n",
        "\n"
      ],
      "execution_count": 12,
      "outputs": [
        {
          "output_type": "stream",
          "text": [
            "My first note.\n",
            "My second note.\n"
          ],
          "name": "stdout"
        }
      ]
    },
    {
      "cell_type": "code",
      "metadata": {
        "colab": {
          "base_uri": "https://localhost:8080/"
        },
        "id": "f-zkpdo8TTLr",
        "outputId": "cc75681b-986f-4128-d977-262acd4e30f4"
      },
      "source": [
        "import datetime\n",
        "\n",
        "\n",
        "class Note:\n",
        "\n",
        "    def __init__(self, content):\n",
        "        self.content = content\n",
        "        self.creation_time = datetime.datetime.now().strftime('%m-%d-%Y %H:%M:%S')\n",
        "        \n",
        "    def __repr__(self):\n",
        "        return f\"Note(content='{self.content}')\"        \n",
        "\n",
        "    def find(self, word):\n",
        "        return word.lower() in self.content.lower()\n",
        "\n",
        "    \n",
        "class Notebook:\n",
        "\n",
        "    def __init__(self):\n",
        "        self.notes = []\n",
        "\n",
        "    def new_note(self, content): #se añade el contenido de la nota(no la Nota())\n",
        "        self.notes.append(Note(content)) \n",
        "\n",
        "    def display_notes(self):\n",
        "      for note in self.notes:\n",
        "        print(note.content)\n",
        "\n",
        "    def search(self,word):' \n",
        "      return [note for note in self.notes if note.find(word)] \n",
        "\n",
        "notebook = Notebook()\n",
        "notebook.new_note('Big Data')\n",
        "notebook.new_note('Data Science')\n",
        "notebook.new_note('Machine Learning')    \n",
        "\n",
        "print(notebook.search('data'))  \n",
        "\n",
        "\n"
      ],
      "execution_count": 14,
      "outputs": [
        {
          "output_type": "execute_result",
          "data": {
            "text/plain": [
              "[Note(content='Big Data'), Note(content='Data Science')]"
            ]
          },
          "metadata": {
            "tags": []
          },
          "execution_count": 14
        }
      ]
    },
    {
      "cell_type": "code",
      "metadata": {
        "colab": {
          "base_uri": "https://localhost:8080/"
        },
        "id": "D0QOAG-SmJEs",
        "outputId": "f4e21614-ff34-4565-cb02-635244bf5535"
      },
      "source": [
        "class Client:\n",
        "\n",
        "  all_clients = []\n",
        "\n",
        "  def __init__(self,name,email):\n",
        "    self.name = name\n",
        "    self.email = email\n",
        "    Client.all_clients.append(self)\n",
        "  \n",
        "  def __repr__(self):\n",
        "      return (f\"Client(name='{self.name}', email='{self.email}')\") \n",
        "\n",
        "client1= Client('Tom','sample@gmail.com')\n",
        "client2= Client('Donald','sales@yahoo.com')\n",
        "client3= Client('Mike','sales-contact@yahoo.com')\n",
        "\n",
        "print(Client.all_clients) #sabe como imprimir cada cliente en la lista\n",
        "\n",
        "  \n"
      ],
      "execution_count": 21,
      "outputs": [
        {
          "output_type": "stream",
          "text": [
            "[Client(name='Tom', email='sample@gmail.com'), Client(name='Donald', email='sales@yahoo.com'), Client(name='Mike', email='sales-contact@yahoo.com')]\n"
          ],
          "name": "stdout"
        }
      ]
    },
    {
      "cell_type": "markdown",
      "metadata": {
        "id": "zayekwFE09i1"
      },
      "source": [
        "definimos un metodo adicional a una lista (ClientList es una sub-clase de lista - de ahí ClientList(list))"
      ]
    },
    {
      "cell_type": "code",
      "metadata": {
        "colab": {
          "base_uri": "https://localhost:8080/"
        },
        "id": "kjEGXa9fx50M",
        "outputId": "e67068d8-0c94-4d2f-85fd-12c369585b0c"
      },
      "source": [
        "class ClientList(list):\n",
        "    \n",
        "    def search_email(self, value):\n",
        "        return [client for client in self if value in client.email]    \n",
        "\n",
        "\n",
        "class Client:\n",
        "\n",
        "    all_clients = ClientList()\n",
        "\n",
        "    def __init__(self, name, email):\n",
        "        self.name = name\n",
        "        self.email = email\n",
        "        Client.all_clients.append(self)\n",
        "\n",
        "    def __repr__(self):\n",
        "        return f\"Client(name='{self.name}', email='{self.email}')\"\n",
        "\n",
        "client1 = Client('Tom', 'sample@gmail.com')\n",
        "client2 = Client('Donald', 'sales@gmail.com')\n",
        "client3 = Client('Mike', 'sales@yahoo.com')\n",
        "client4 = Client('Lisa', 'info@gmail.com') \n",
        "\n",
        "print(Client.all_clients.search_email('sales'))"
      ],
      "execution_count": 24,
      "outputs": [
        {
          "output_type": "stream",
          "text": [
            "[Client(name='Donald', email='sales@gmail.com'), Client(name='Mike', email='sales@yahoo.com')]\n"
          ],
          "name": "stdout"
        }
      ]
    },
    {
      "cell_type": "code",
      "metadata": {
        "colab": {
          "base_uri": "https://localhost:8080/"
        },
        "id": "6iC2t1QI3N0T",
        "outputId": "c1795b34-c529-45a2-ef89-30783aca2031"
      },
      "source": [
        "for client in Client.all_clients.search_email('gmail'):\n",
        "  print(client)"
      ],
      "execution_count": 26,
      "outputs": [
        {
          "output_type": "stream",
          "text": [
            "Client(name='Tom', email='sample@gmail.com')\n",
            "Client(name='Donald', email='sales@gmail.com')\n",
            "Client(name='Lisa', email='info@gmail.com')\n"
          ],
          "name": "stdout"
        }
      ]
    },
    {
      "cell_type": "code",
      "metadata": {
        "colab": {
          "base_uri": "https://localhost:8080/"
        },
        "id": "J7xQlCsK4MKK",
        "outputId": "7dc242c7-e9e4-4fb6-a507-54e2f4501daf"
      },
      "source": [
        "print([client.name for client in Client.all_clients.search_email('sales')])"
      ],
      "execution_count": 30,
      "outputs": [
        {
          "output_type": "stream",
          "text": [
            "['Donald', 'Mike']\n"
          ],
          "name": "stdout"
        }
      ]
    },
    {
      "cell_type": "code",
      "metadata": {
        "colab": {
          "base_uri": "https://localhost:8080/"
        },
        "id": "6G3F7Rhx5OmH",
        "outputId": "3b839d0b-a54c-4216-8a91-feebab5060e3"
      },
      "source": [
        "class CustomDict(dict):\n",
        "\n",
        "  def is_any_str_value(self):\n",
        "    for value in self.values():\n",
        "      if type(value) == str:\n",
        "        return True\n",
        "    return False    \n",
        "\n",
        "cd = CustomDict(python = 123)\n",
        "print(cd.is_any_str_value())"
      ],
      "execution_count": 36,
      "outputs": [
        {
          "output_type": "stream",
          "text": [
            "False\n"
          ],
          "name": "stdout"
        }
      ]
    },
    {
      "cell_type": "code",
      "metadata": {
        "colab": {
          "base_uri": "https://localhost:8080/"
        },
        "id": "rM7DJNPiTSTR",
        "outputId": "c98ae65c-85c0-4107-e8a6-337956d60835"
      },
      "source": [
        "class StringListOnly(list):\n",
        "\n",
        "  def append(self,value):\n",
        "    if type(value) == str:\n",
        "      self += [value] #mejor super().append(value)\n",
        "    else:\n",
        "      raise TypeError('Only objects of type str can be added to the list')\n",
        "\n",
        " \n",
        "\n",
        "list1 = StringListOnly()\n",
        "list1.append('Data')\n",
        "list1.append('Science')   \n",
        "print(list1)    "
      ],
      "execution_count": 47,
      "outputs": [
        {
          "output_type": "stream",
          "text": [
            "['Data', 'Science']\n"
          ],
          "name": "stdout"
        }
      ]
    },
    {
      "cell_type": "code",
      "metadata": {
        "id": "MahGKRa6YLf8"
      },
      "source": [
        ""
      ],
      "execution_count": null,
      "outputs": []
    },
    {
      "cell_type": "code",
      "metadata": {
        "colab": {
          "base_uri": "https://localhost:8080/"
        },
        "id": "E9UKClzKYQxA",
        "outputId": "b3af3c92-b315-4aeb-db7e-43a1e228d1b0"
      },
      "source": [
        "class StringListOnly(list):\n",
        "\n",
        "  def append(self,value):\n",
        "    if type(value) == str:\n",
        "      super().append(value.lower())\n",
        "    else:\n",
        "      raise TypeError('Only objects of type str can be added to the list')\n",
        "\n",
        " \n",
        "\n",
        "list1 = StringListOnly()\n",
        "list1.append('Data')\n",
        "list1.append('Science')\n",
        "list1.append('Machine Learning')\n",
        "print(list1)"
      ],
      "execution_count": 48,
      "outputs": [
        {
          "output_type": "stream",
          "text": [
            "['data', 'science', 'machine learning']\n"
          ],
          "name": "stdout"
        }
      ]
    },
    {
      "cell_type": "code",
      "metadata": {
        "colab": {
          "base_uri": "https://localhost:8080/"
        },
        "id": "eOUyp6X_YewH",
        "outputId": "182bdfab-ba2c-48f7-bd98-7251948cafa1"
      },
      "source": [
        "import uuid\n",
        "\n",
        "class Warehouse:\n",
        "    def __init__(self):\n",
        "      self.products = []\n",
        "\n",
        "\n",
        "class Product:\n",
        "\n",
        "    def __init__(self, product_name, price):\n",
        "        self.product_id = self.get_id()\n",
        "        self.product_name = product_name\n",
        "        self.price = price\n",
        "\n",
        "    def __repr__(self):\n",
        "        return f\"Product(product_name='{self.product_name}', price={self.price})\"\n",
        "\n",
        "    @staticmethod\n",
        "    def get_id():\n",
        "        return str(uuid.uuid4().fields[-1])[:6]\n",
        "warehouse = Warehouse()\n",
        "print(warehouse.products)"
      ],
      "execution_count": 51,
      "outputs": [
        {
          "output_type": "stream",
          "text": [
            "[]\n"
          ],
          "name": "stdout"
        }
      ]
    },
    {
      "cell_type": "code",
      "metadata": {
        "colab": {
          "base_uri": "https://localhost:8080/"
        },
        "id": "mRqK6ncQY-mY",
        "outputId": "7a7e5ef3-519e-492f-cb25-eace167c5e87"
      },
      "source": [
        "import uuid\n",
        "\n",
        "class Warehouse:\n",
        "    def __init__(self):\n",
        "      self.products = []\n",
        "\n",
        "    def add_product(self, product):\n",
        "      for existing_product in self.products:\n",
        "        if product.product_name == existing_product.product_name:\n",
        "          return\n",
        "        \n",
        "      self.products.append(product)\n",
        "\n",
        "\n",
        "\n",
        "\n",
        "class Product:\n",
        "\n",
        "    def __init__(self, product_name, price):\n",
        "        self.product_id = self.get_id()\n",
        "        self.product_name = product_name\n",
        "        self.price = price\n",
        "\n",
        "    def __repr__(self):\n",
        "        return f\"Product(product_name='{self.product_name}', price={self.price})\"\n",
        "\n",
        "    @staticmethod\n",
        "    def get_id():\n",
        "        return str(uuid.uuid4().fields[-1])[:6]\n",
        "\n",
        "warehouse = Warehouse()\n",
        "warehouse.add_product(Product('Laptop',3900.0))  \n",
        "warehouse.add_product(Product('Mobile Phone',1990.0))\n",
        "warehouse.add_product(Product('Mobile Phone',1990.0))\n",
        "print(warehouse.products)     "
      ],
      "execution_count": 28,
      "outputs": [
        {
          "output_type": "stream",
          "text": [
            "[Product(product_name='Laptop', price=3900.0), Product(product_name='Mobile Phone', price=1990.0)]\n"
          ],
          "name": "stdout"
        }
      ]
    },
    {
      "cell_type": "code",
      "metadata": {
        "colab": {
          "base_uri": "https://localhost:8080/"
        },
        "id": "fQBR4zWRY-d1",
        "outputId": "2fa1ed79-5a3c-4168-c112-ecae17870b7e"
      },
      "source": [
        "import uuid\n",
        "\n",
        "\n",
        "class Product:\n",
        "\n",
        "    def __init__(self, product_name, price):\n",
        "        self.product_id = self.get_id()\n",
        "        self.product_name = product_name\n",
        "        self.price = price\n",
        "\n",
        "    def __repr__(self):\n",
        "        return f\"Product(product_name='{self.product_name}', price={self.price})\"\n",
        "\n",
        "    @staticmethod\n",
        "    def get_id():\n",
        "        return str(uuid.uuid4().fields[-1])[:6]\n",
        "\n",
        "\n",
        "class Warehouse:\n",
        "\n",
        "    def __init__(self):\n",
        "        self.products = []\n",
        "\n",
        "    def add_product(self, product_name, price):\n",
        "        product_names = [product.product_name for product in self.products]\n",
        "        if not product_name in product_names:\n",
        "            self.products.append(Product(product_name, price))\n",
        "\n",
        "    def remove_product(self, product_name):\n",
        "        for existing_product in self.products:\n",
        "            if product_name == existing_product.product_name:\n",
        "              self.products.remove(existing_product)\n",
        "\n",
        "warehouse = Warehouse()\n",
        "warehouse.add_product('Laptop',3900.0)  \n",
        "warehouse.add_product('Mobile Phone',1990.0)\n",
        "warehouse.add_product('Camera',2900.0)  \n",
        "\n",
        "warehouse.remove_product('Mobile Phone')\n",
        "print(warehouse.products)\n"
      ],
      "execution_count": 38,
      "outputs": [
        {
          "output_type": "stream",
          "text": [
            "[Product(product_name='Laptop', price=3900.0), Product(product_name='Camera', price=2900.0)]\n"
          ],
          "name": "stdout"
        }
      ]
    },
    {
      "cell_type": "code",
      "metadata": {
        "colab": {
          "base_uri": "https://localhost:8080/"
        },
        "id": "KCLdaeagnXQJ",
        "outputId": "1f722613-3d78-4f4a-c5a6-f97e042d59a7"
      },
      "source": [
        "import uuid\n",
        "\n",
        "\n",
        "class Product:\n",
        "\n",
        "    def __init__(self, product_name, price):\n",
        "        self.product_id = self.get_id()\n",
        "        self.product_name = product_name\n",
        "        self.price = price\n",
        "\n",
        "    def __repr__(self):\n",
        "        return f\"Product(product_name='{self.product_name}', price={self.price})\"\n",
        "\n",
        "    def __str__(self):\n",
        "        return f'Product Name: {self.product_name} | Price: {self.price}'\n",
        "    \n",
        "    @staticmethod\n",
        "    def get_id():\n",
        "        return str(uuid.uuid4().fields[-1])[:6]\n",
        "\n",
        "\n",
        "class Warehouse:\n",
        "\n",
        "    def __init__(self):\n",
        "        self.products = []\n",
        "\n",
        "    def add_product(self, product_name, price):\n",
        "        product_names = [product.product_name for product in self.products]\n",
        "        if not product_name in product_names:\n",
        "            self.products.append(Product(product_name, price))\n",
        "\n",
        "    def remove_product(self, product_name):\n",
        "        for existing_product in self.products:\n",
        "            if product_name == existing_product.product_name:\n",
        "              self.products.remove(existing_product)\n",
        "\n",
        "product = Product('Mobile Phone', 1990.0)\n",
        "print(product)             "
      ],
      "execution_count": 40,
      "outputs": [
        {
          "output_type": "stream",
          "text": [
            "Product name: Mobile Phone | Price: 1990.0\n"
          ],
          "name": "stdout"
        }
      ]
    },
    {
      "cell_type": "code",
      "metadata": {
        "colab": {
          "base_uri": "https://localhost:8080/"
        },
        "id": "msTg-T_io8EH",
        "outputId": "2d88365e-41c9-437b-dfdc-c4cfaa80cd31"
      },
      "source": [
        "import uuid\n",
        "\n",
        "\n",
        "class Product:\n",
        "\n",
        "    def __init__(self, product_name, price):\n",
        "        self.product_id = self.get_id()\n",
        "        self.product_name = product_name\n",
        "        self.price = price\n",
        "\n",
        "    def __repr__(self):\n",
        "        return f\"Product(product_name='{self.product_name}', price={self.price})\"\n",
        "\n",
        "    def __str__(self):\n",
        "        return f'Product Name: {self.product_name} | Price: {self.price}'\n",
        "    \n",
        "    @staticmethod\n",
        "    def get_id():\n",
        "        return str(uuid.uuid4().fields[-1])[:6]\n",
        "\n",
        "\n",
        "class Warehouse:\n",
        "\n",
        "    def __init__(self):\n",
        "        self.products = []\n",
        "\n",
        "    def add_product(self, product_name, price):\n",
        "        product_names = [product.product_name for product in self.products]\n",
        "        if not product_name in product_names:\n",
        "            self.products.append(Product(product_name, price))\n",
        "\n",
        "    def remove_product(self, product_name):\n",
        "        for existing_product in self.products:\n",
        "            if product_name == existing_product.product_name:\n",
        "              self.products.remove(existing_product)\n",
        "\n",
        "    def display_product(self):\n",
        "      for product in self.products:\n",
        "        print(product) \n",
        "\n",
        "warehouse = Warehouse()\n",
        "warehouse.add_product('Laptop',3900.0)  \n",
        "warehouse.add_product('Mobile Phone',1990.0)\n",
        "warehouse.add_product('Camera',2900.0) \n",
        "warehouse.display_product()                "
      ],
      "execution_count": 41,
      "outputs": [
        {
          "output_type": "stream",
          "text": [
            "Product Name: Laptop | Price: 3900.0\n",
            "Product Name: Mobile Phone | Price: 1990.0\n",
            "Product Name: Camera | Price: 2900.0\n"
          ],
          "name": "stdout"
        }
      ]
    },
    {
      "cell_type": "code",
      "metadata": {
        "colab": {
          "base_uri": "https://localhost:8080/"
        },
        "id": "O4ZFVthwqLhx",
        "outputId": "ddac1ffe-684e-474b-eec6-d160234ee04a"
      },
      "source": [
        "\n",
        "class Warehouse:\n",
        "\n",
        "    def __init__(self):\n",
        "        self.products = []\n",
        "\n",
        "    def add_product(self, product_name, price):\n",
        "        product_names = [product.product_name for product in self.products]\n",
        "        if not product_name in product_names:\n",
        "            self.products.append(Product(product_name, price))\n",
        "\n",
        "    def remove_product(self, product_name):\n",
        "        for existing_product in self.products:\n",
        "            if product_name == existing_product.product_name:\n",
        "              self.products.remove(existing_product)\n",
        "\n",
        "    def display_product(self):\n",
        "      for product in self.products:\n",
        "        print(product)\n",
        "\n",
        "    def sort_by_price(self, ascending = True):\n",
        "      '''self.products.sort(key = lambda x: x.price, reverse = not ascending)\n",
        "      for product in self.products:\n",
        "        print(repr(product))'''\n",
        "      return sorted(self.products,key=lambda product: product.price, reverse = not ascending) \n",
        "\n",
        "warehouse = Warehouse()\n",
        "warehouse.add_product('Laptop',3900.0)  \n",
        "warehouse.add_product('Mobile Phone',1990.0)\n",
        "warehouse.add_product('Camera',2900.0)\n",
        "warehouse.add_product('USB Cable',24.9)\n",
        "warehouse.add_product('Mouse',49.0) \n",
        "for product in warehouse.sort_by_price():\n",
        "  print(product)\n"
      ],
      "execution_count": 55,
      "outputs": [
        {
          "output_type": "stream",
          "text": [
            "Product Name: USB Cable | Price: 24.9\n",
            "Product Name: Mouse | Price: 49.0\n",
            "Product Name: Mobile Phone | Price: 1990.0\n",
            "Product Name: Camera | Price: 2900.0\n",
            "Product Name: Laptop | Price: 3900.0\n"
          ],
          "name": "stdout"
        }
      ]
    },
    {
      "cell_type": "code",
      "metadata": {
        "colab": {
          "base_uri": "https://localhost:8080/"
        },
        "id": "OIObvxp2ysPV",
        "outputId": "547ba3fa-0903-4631-9f7c-1987feae16fe"
      },
      "source": [
        "class Warehouse:\n",
        "\n",
        "    def __init__(self):\n",
        "        self.products = []\n",
        "\n",
        "    def add_product(self, product_name, price):\n",
        "        product_names = [product.product_name for product in self.products]\n",
        "        if not product_name in product_names:\n",
        "            self.products.append(Product(product_name, price))\n",
        "\n",
        "    def remove_product(self, product_name):\n",
        "        for existing_product in self.products:\n",
        "            if product_name == existing_product.product_name:\n",
        "              self.products.remove(existing_product)\n",
        "\n",
        "    def display_product(self):\n",
        "      for product in self.products:\n",
        "        print(product)\n",
        "\n",
        "    def sort_by_price(self, ascending = True):\n",
        "      return sorted(self.products,key=lambda product: product.price, reverse = not ascending) \n",
        "\n",
        "    def search_product(self, query):\n",
        "      return [product for product in self.products if query in product.product_name] \n",
        "\n",
        "warehouse = Warehouse()\n",
        "warehouse.add_product('Laptop',3900.0)  \n",
        "warehouse.add_product('Mobile Phone',1990.0)\n",
        "warehouse.add_product('Camera',2900.0)\n",
        "warehouse.add_product('USB Cable',24.9)\n",
        "warehouse.add_product('Mouse',49.0)\n",
        "print(warehouse.search_product('M')) "
      ],
      "execution_count": 56,
      "outputs": [
        {
          "output_type": "stream",
          "text": [
            "[Product(product_name='Mobile Phone', price=1990.0), Product(product_name='Mouse', price=49.0)]\n"
          ],
          "name": "stdout"
        }
      ]
    }
  ]
}