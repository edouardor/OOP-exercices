{
  "nbformat": 4,
  "nbformat_minor": 0,
  "metadata": {
    "colab": {
      "name": "Udemy_OOP_150_ejercicios -2.ipynb",
      "provenance": [],
      "authorship_tag": "ABX9TyOAsnsEsd9l3uT2oFh+FTQx",
      "include_colab_link": true
    },
    "kernelspec": {
      "name": "python3",
      "display_name": "Python 3"
    }
  },
  "cells": [
    {
      "cell_type": "markdown",
      "metadata": {
        "id": "view-in-github",
        "colab_type": "text"
      },
      "source": [
        "<a href=\"https://colab.research.google.com/github/edouardor/test-colab/blob/main/Udemy_OOP_150_ejercicios_2.ipynb\" target=\"_parent\"><img src=\"https://colab.research.google.com/assets/colab-badge.svg\" alt=\"Open In Colab\"/></a>"
      ]
    },
    {
      "cell_type": "markdown",
      "metadata": {
        "id": "mLEotB1Jtdqq"
      },
      "source": [
        "##  Udemy 150+ Exercises - Object Oriented Programming in Python - OOP - 2"
      ]
    },
    {
      "cell_type": "markdown",
      "metadata": {
        "id": "e-SIYfPotnNu"
      },
      "source": [
        "## Sección 7: Classes - the basics\n",
        "\n",
        "Exercise 4:\n",
        "\n",
        "Display the value of the __name__ attribute of a given class to the console"
      ]
    },
    {
      "cell_type": "code",
      "metadata": {
        "colab": {
          "base_uri": "https://localhost:8080/"
        },
        "id": "ysjHjCqHuOSp",
        "outputId": "de017a1f-7d75-4441-9291-7352049b8757"
      },
      "source": [
        "class Vehicle:\n",
        "    \"\"\"This is a Vehicle class.\"\"\"\n",
        "print(Vehicle.__name__) "
      ],
      "execution_count": 1,
      "outputs": [
        {
          "output_type": "stream",
          "text": [
            "Vehicle\n"
          ],
          "name": "stdout"
        }
      ]
    },
    {
      "cell_type": "markdown",
      "metadata": {
        "id": "K-TP7hASvB46"
      },
      "source": [
        "### Exercise 5:\n",
        "\n",
        "Display all __dict__ attribute keys of the Container class\n"
      ]
    },
    {
      "cell_type": "code",
      "metadata": {
        "colab": {
          "base_uri": "https://localhost:8080/"
        },
        "id": "BlIgHiINvXCW",
        "outputId": "d25024ac-3e04-459d-d726-fff49527083a"
      },
      "source": [
        "class Container:\n",
        "  \"\"\"This is a Container class\"\"\"\n",
        "print(Container.__dict__.keys())"
      ],
      "execution_count": 6,
      "outputs": [
        {
          "output_type": "stream",
          "text": [
            "dict_keys(['__module__', '__doc__', '__dict__', '__weakref__'])\n"
          ],
          "name": "stdout"
        }
      ]
    },
    {
      "cell_type": "code",
      "metadata": {
        "colab": {
          "base_uri": "https://localhost:8080/"
        },
        "id": "xUUq_3KnvnrM",
        "outputId": "aed841dc-86ca-4500-d604-9c09a874e8d6"
      },
      "source": [
        "print(Container.__module__)"
      ],
      "execution_count": 7,
      "outputs": [
        {
          "output_type": "stream",
          "text": [
            "__main__\n"
          ],
          "name": "stdout"
        }
      ]
    },
    {
      "cell_type": "code",
      "metadata": {
        "colab": {
          "base_uri": "https://localhost:8080/"
        },
        "id": "H_k8Vx9awwpr",
        "outputId": "cd6dbf3a-6b45-4e98-dcfe-a048e9f15c59"
      },
      "source": [
        "container = Container()\n",
        "print(type(container))"
      ],
      "execution_count": 8,
      "outputs": [
        {
          "output_type": "stream",
          "text": [
            "<class '__main__.Container'>\n"
          ],
          "name": "stdout"
        }
      ]
    },
    {
      "cell_type": "code",
      "metadata": {
        "colab": {
          "base_uri": "https://localhost:8080/"
        },
        "id": "G3dXE8RoxiDr",
        "outputId": "df1c285d-7690-4f2b-f0a5-9f415785bd4c"
      },
      "source": [
        "print(container.__class__)"
      ],
      "execution_count": 9,
      "outputs": [
        {
          "output_type": "stream",
          "text": [
            "<class '__main__.Container'>\n"
          ],
          "name": "stdout"
        }
      ]
    },
    {
      "cell_type": "markdown",
      "metadata": {
        "id": "Y5qYjkMJx_ik"
      },
      "source": [
        "### Exercise 9:\n",
        "\n",
        "Create a simple class named Model, then create an instance of this class named model. Check if model is an instance of Model"
      ]
    },
    {
      "cell_type": "code",
      "metadata": {
        "colab": {
          "base_uri": "https://localhost:8080/"
        },
        "id": "qaPJ8rG6yUht",
        "outputId": "2544dc2f-77e9-4161-e65e-76a934987b12"
      },
      "source": [
        "class Model():\n",
        "  \"\"\"This is a Model class\"\"\"\n",
        "\n",
        "model = Model()\n",
        "print(isinstance(model,Model))  "
      ],
      "execution_count": 11,
      "outputs": [
        {
          "output_type": "stream",
          "text": [
            "True\n"
          ],
          "name": "stdout"
        }
      ]
    },
    {
      "cell_type": "code",
      "metadata": {
        "colab": {
          "base_uri": "https://localhost:8080/"
        },
        "id": "poA79oUMzHzl",
        "outputId": "0a3bcc10-0fe1-4e27-8125-76ec0787ae87"
      },
      "source": [
        "class Model():\n",
        "  pass\n",
        "class View():\n",
        "  pass\n",
        "model = Model()\n",
        "view = View()\n",
        "print(isinstance(model,Model))  \n",
        "print(isinstance(view,Model))\n"
      ],
      "execution_count": 12,
      "outputs": [
        {
          "output_type": "stream",
          "text": [
            "True\n",
            "False\n"
          ],
          "name": "stdout"
        }
      ]
    },
    {
      "cell_type": "code",
      "metadata": {
        "colab": {
          "base_uri": "https://localhost:8080/"
        },
        "id": "AqxG0LFzz4N1",
        "outputId": "9f8c5783-8da7-4bb8-b18b-b42894cfc72c"
      },
      "source": [
        "object1 = Model()\n",
        "object2 = [Model(), Model()]\n",
        "object3 = {}\n",
        "\n",
        "print(isinstance(object1,Model) or isinstance(object1,View))\n",
        "print(isinstance(object2,Model) or isinstance(object2,View))\n",
        "print(isinstance(object3,Model) or isinstance(object3,View))"
      ],
      "execution_count": 13,
      "outputs": [
        {
          "output_type": "stream",
          "text": [
            "True\n",
            "False\n",
            "False\n"
          ],
          "name": "stdout"
        }
      ]
    },
    {
      "cell_type": "code",
      "metadata": {
        "colab": {
          "base_uri": "https://localhost:8080/"
        },
        "id": "zt_qps4z0Opy",
        "outputId": "2f681cd9-b873-447b-9bd6-f0c5e5dace22"
      },
      "source": [
        "print(isinstance(object1,(Model,View)))\n",
        "print(isinstance(object2,(Model,View)))\n",
        "print(isinstance(object3,(Model,View)))"
      ],
      "execution_count": 15,
      "outputs": [
        {
          "output_type": "stream",
          "text": [
            "True\n",
            "False\n",
            "False\n"
          ],
          "name": "stdout"
        }
      ]
    },
    {
      "cell_type": "code",
      "metadata": {
        "colab": {
          "base_uri": "https://localhost:8080/"
        },
        "id": "npUx39Em0i7V",
        "outputId": "2498f847-98f4-4c09-8856-962d46fad512"
      },
      "source": [
        "print(type(Container.__dict__))\n",
        "print(type(container.__dict__))"
      ],
      "execution_count": 17,
      "outputs": [
        {
          "output_type": "stream",
          "text": [
            "<class 'mappingproxy'>\n",
            "<class 'dict'>\n"
          ],
          "name": "stdout"
        }
      ]
    },
    {
      "cell_type": "code",
      "metadata": {
        "colab": {
          "base_uri": "https://localhost:8080/"
        },
        "id": "zIw-Erhw1-DJ",
        "outputId": "072ac1ed-40ec-4f62-b298-422c4daa4c01"
      },
      "source": [
        "print(issubclass(Model,object))\n",
        "print(issubclass(View,object))"
      ],
      "execution_count": 31,
      "outputs": [
        {
          "output_type": "stream",
          "text": [
            "True\n",
            "True\n"
          ],
          "name": "stdout"
        }
      ]
    },
    {
      "cell_type": "markdown",
      "metadata": {
        "id": "vr63Lq5tALt6"
      },
      "source": [
        "## Sección 8:Class attributes\n",
        "\n"
      ]
    },
    {
      "cell_type": "code",
      "metadata": {
        "colab": {
          "base_uri": "https://localhost:8080/"
        },
        "id": "M6rRdCSDAUdz",
        "outputId": "0982338b-8b08-474d-b8c1-3f7f71d9ae4f"
      },
      "source": [
        "class Phone():\n",
        "  brand = 'Apple'\n",
        "\n",
        "print(Phone.brand)  "
      ],
      "execution_count": 32,
      "outputs": [
        {
          "output_type": "stream",
          "text": [
            "Apple\n"
          ],
          "name": "stdout"
        }
      ]
    },
    {
      "cell_type": "code",
      "metadata": {
        "colab": {
          "base_uri": "https://localhost:8080/"
        },
        "id": "TDEll_SJBKGo",
        "outputId": "2354d9ba-4635-4012-f55e-ed08337e6c13"
      },
      "source": [
        "class Phone():\n",
        "  brand = 'Apple'\n",
        "  model = 'iPhone X'\n",
        "\n",
        "print(getattr(Phone, 'brand'))\n",
        "print(getattr(Phone, 'model'))  "
      ],
      "execution_count": 36,
      "outputs": [
        {
          "output_type": "stream",
          "text": [
            "Apple\n",
            "iPhone X\n"
          ],
          "name": "stdout"
        }
      ]
    },
    {
      "cell_type": "code",
      "metadata": {
        "colab": {
          "base_uri": "https://localhost:8080/"
        },
        "id": "o83fafCZD6YP",
        "outputId": "72e3cceb-5c7e-461b-ea29-83645a54f4a8"
      },
      "source": [
        "Phone.brand = 'Samsung'\n",
        "Phone.model = 'Galaxy'\n",
        "\n",
        "print(f'brand: {Phone.brand}')\n",
        "print(f'model: {Phone.model}')"
      ],
      "execution_count": 41,
      "outputs": [
        {
          "output_type": "stream",
          "text": [
            "brand: Samsung\n",
            "model: Galaxy\n"
          ],
          "name": "stdout"
        }
      ]
    },
    {
      "cell_type": "code",
      "metadata": {
        "colab": {
          "base_uri": "https://localhost:8080/"
        },
        "id": "GFuWnzwH77P9",
        "outputId": "f9e1d73d-37fd-4435-c9c3-f66d398d57ca"
      },
      "source": [
        "class Laptop():\n",
        "  brand = 'Lenovo'\n",
        "  model = 'ThinkPad'\n",
        "\n",
        "setattr(Laptop,'brand','Acer')\n",
        "setattr(Laptop,'model','Predator')\n",
        "\n",
        "print(f'brand: {getattr(Laptop,\"brand\")}')\n",
        "print(f'model: {getattr(Laptop,\"model\")}')\n"
      ],
      "execution_count": 10,
      "outputs": [
        {
          "output_type": "stream",
          "text": [
            "brand: Acer\n",
            "model: Predator\n"
          ],
          "name": "stdout"
        }
      ]
    },
    {
      "cell_type": "code",
      "metadata": {
        "colab": {
          "base_uri": "https://localhost:8080/"
        },
        "id": "uDV7ufOz-7xV",
        "outputId": "4ff2fde2-a83f-49b8-92fd-32435bf9b07a"
      },
      "source": [
        "class OnlineShop():\n",
        "  sector = 'electronics'\n",
        "  sector_code = 'ELE'\n",
        "  is_public_company = False\n",
        "\n",
        "OnlineShop.country = 'USA'\n",
        "\n",
        "print(list(filter(lambda aname: not aname.startswith('_'), OnlineShop.__dict__.keys()))) "
      ],
      "execution_count": 28,
      "outputs": [
        {
          "output_type": "stream",
          "text": [
            "['sector', 'sector_code', 'is_public_company', 'country']\n"
          ],
          "name": "stdout"
        }
      ]
    },
    {
      "cell_type": "code",
      "metadata": {
        "colab": {
          "base_uri": "https://localhost:8080/"
        },
        "id": "6Ki5sffB_zSA",
        "outputId": "1f2bb2fc-937a-438d-aa0e-d3a1bd44c02a"
      },
      "source": [
        "attrs = [attr for attr in OnlineShop.__dict__.keys() if not attr.startswith('_')]\n",
        "print(attrs)"
      ],
      "execution_count": 29,
      "outputs": [
        {
          "output_type": "stream",
          "text": [
            "['sector', 'sector_code', 'is_public_company', 'country']\n"
          ],
          "name": "stdout"
        }
      ]
    },
    {
      "cell_type": "code",
      "metadata": {
        "colab": {
          "base_uri": "https://localhost:8080/"
        },
        "id": "ilwTENlSFiLW",
        "outputId": "5179e5df-8dee-4c88-afd1-f099d5cab013"
      },
      "source": [
        "class OnlineShop():\n",
        "  sector = 'electronics'\n",
        "  sector_code = 'ELE'\n",
        "  is_public_company = False\n",
        "\n",
        "del OnlineShop.sector_code\n",
        "attrs = [attr for attr in OnlineShop.__dict__.keys() if not attr.startswith('_')]\n",
        "print(attrs)\n"
      ],
      "execution_count": 30,
      "outputs": [
        {
          "output_type": "stream",
          "text": [
            "['sector', 'is_public_company']\n"
          ],
          "name": "stdout"
        }
      ]
    },
    {
      "cell_type": "code",
      "metadata": {
        "colab": {
          "base_uri": "https://localhost:8080/"
        },
        "id": "s1qBVe3wGy6e",
        "outputId": "715a0eba-7f58-42f4-d7a6-1693615ca392"
      },
      "source": [
        "class OnlineShop():\n",
        "  sector = 'electronics'\n",
        "  sector_code = 'ELE'\n",
        "  is_public_company = False\n",
        "\n",
        "attrs = [attr for attr in OnlineShop.__dict__.keys() if not attr.startswith('_')]\n",
        "for attr in attrs:\n",
        "  print(attr,'->',OnlineShop.__dict__[attr])  \n",
        "\n"
      ],
      "execution_count": 31,
      "outputs": [
        {
          "output_type": "stream",
          "text": [
            "sector  ->  electronics\n",
            "sector_code  ->  ELE\n",
            "is_public_company  ->  False\n"
          ],
          "name": "stdout"
        }
      ]
    },
    {
      "cell_type": "code",
      "metadata": {
        "colab": {
          "base_uri": "https://localhost:8080/"
        },
        "id": "5vcOV5pKIAre",
        "outputId": "23e5d4c4-2eaa-4e9f-e1c4-1f32e443604e"
      },
      "source": [
        "for attr, value in OnlineShop.__dict__.items():\n",
        "    if not attr.startswith('_'):\n",
        "        print(f'{attr} -> {value}')"
      ],
      "execution_count": 32,
      "outputs": [
        {
          "output_type": "stream",
          "text": [
            "sector -> electronics\n",
            "sector_code -> ELE\n",
            "is_public_company -> False\n"
          ],
          "name": "stdout"
        }
      ]
    },
    {
      "cell_type": "code",
      "metadata": {
        "id": "ualxGsggYh3a"
      },
      "source": [
        "def describe_attrs(my_class):\n",
        "  for attr, value in my_class.__dict__.items():\n",
        "    if not attr.startswith('_'):\n",
        "        print(f'{attr} -> {value}')\n",
        "  return      \n"
      ],
      "execution_count": 33,
      "outputs": []
    },
    {
      "cell_type": "markdown",
      "metadata": {
        "id": "7k_tO0hYapCY"
      },
      "source": [
        ""
      ]
    },
    {
      "cell_type": "code",
      "metadata": {
        "colab": {
          "base_uri": "https://localhost:8080/"
        },
        "id": "juvkhCNAZEXN",
        "outputId": "c50b5b60-cf04-4e0d-81bc-d88196ef2042"
      },
      "source": [
        "describe_attrs(OnlineShop)"
      ],
      "execution_count": 35,
      "outputs": [
        {
          "output_type": "stream",
          "text": [
            "sector -> electronics\n",
            "sector_code -> ELE\n",
            "is_public_company -> False\n"
          ],
          "name": "stdout"
        }
      ]
    },
    {
      "cell_type": "code",
      "metadata": {
        "id": "WQuIg20UaT3r"
      },
      "source": [
        "class OnlineShop:\n",
        "    sector = 'electronics'\n",
        "    sector_code = 'ELE'\n",
        "    is_public_company = False\n",
        "\n",
        "    def get_sector():\n",
        "      return OnlineShop.sector"
      ],
      "execution_count": 36,
      "outputs": []
    },
    {
      "cell_type": "code",
      "metadata": {
        "colab": {
          "base_uri": "https://localhost:8080/"
        },
        "id": "AeCeiGwTbTEI",
        "outputId": "de121a6a-dd6c-4bde-b25b-e627240b7bcc"
      },
      "source": [
        "class HouseProject():\n",
        "  number_of_floors = 3\n",
        "  area = 100\n",
        "\n",
        "  def describe_project():\n",
        "    print(f'Floor number: {HouseProject.number_of_floors}')\n",
        "    print(f'Area: {HouseProject.area}')\n",
        "\n",
        "HouseProject.describe_project()    "
      ],
      "execution_count": 38,
      "outputs": [
        {
          "output_type": "stream",
          "text": [
            "Floor number: 3\n",
            "Area: 100\n"
          ],
          "name": "stdout"
        }
      ]
    },
    {
      "cell_type": "markdown",
      "metadata": {
        "id": "Cyu6x_4qcgVZ"
      },
      "source": [
        "## Sección 9:Instance attributes"
      ]
    },
    {
      "cell_type": "code",
      "metadata": {
        "id": "KafkgOePdAdm"
      },
      "source": [
        "class Book:\n",
        "    language = 'ENG'\n",
        "    is_ebook = True"
      ],
      "execution_count": 39,
      "outputs": []
    },
    {
      "cell_type": "code",
      "metadata": {
        "colab": {
          "base_uri": "https://localhost:8080/"
        },
        "id": "qozQisOTdETs",
        "outputId": "8c00dbdc-c5a1-446e-e7c4-e1149cbda95c"
      },
      "source": [
        "book1 = Book()\n",
        "print(book1.__dict__)\n",
        "book1.author = 'Dan Brown'\n",
        "book1.title = 'Inferno'\n",
        "print(book1.__dict__)"
      ],
      "execution_count": 41,
      "outputs": [
        {
          "output_type": "stream",
          "text": [
            "{}\n",
            "{'author': 'Dan Brown', 'title': 'Inferno'}\n"
          ],
          "name": "stdout"
        }
      ]
    },
    {
      "cell_type": "code",
      "metadata": {
        "colab": {
          "base_uri": "https://localhost:8080/"
        },
        "id": "b4S8zP--dDqu",
        "outputId": "055065a8-bbb0-4d0a-8505-451a60343fb3"
      },
      "source": [
        "book2 = Book()\n",
        "book2.author = 'Dan Brown'\n",
        "book2.title = 'The Da Vinci Code'\n",
        "book2.year_of_publishment = 2003\n",
        "print(book2.__dict__)\n",
        "\n"
      ],
      "execution_count": 44,
      "outputs": [
        {
          "output_type": "stream",
          "text": [
            "{'author': 'Dan Brown', 'title': 'The Da Vinci Code', 'year_of_publishment': 2003}\n"
          ],
          "name": "stdout"
        }
      ]
    },
    {
      "cell_type": "code",
      "metadata": {
        "colab": {
          "base_uri": "https://localhost:8080/"
        },
        "id": "uhLTsapWhSOM",
        "outputId": "f757390d-cd58-4107-f6d3-31ee4ec6ef30"
      },
      "source": [
        "books = [book1,book2]\n",
        "for book in books:\n",
        "  for key, val in book.__dict__.items():\n",
        "    print(key,'->',val)\n",
        "  print(\"-\"*30) "
      ],
      "execution_count": 47,
      "outputs": [
        {
          "output_type": "stream",
          "text": [
            "author -> Dan Brown\n",
            "title -> Inferno\n",
            "------------------------------\n",
            "author -> Dan Brown\n",
            "title -> The Da Vinci Code\n",
            "year_of_publishment -> 2003\n",
            "------------------------------\n"
          ],
          "name": "stdout"
        }
      ]
    },
    {
      "cell_type": "code",
      "metadata": {
        "colab": {
          "base_uri": "https://localhost:8080/"
        },
        "id": "JjFJomici7uh",
        "outputId": "294efacb-58d3-4ead-a023-f425bd825eed"
      },
      "source": [
        "for book in books:\n",
        "    for attr in book.__dict__:\n",
        "        print(f'{attr} -> {getattr(book, attr)}')\n",
        "    print('-' * 30)"
      ],
      "execution_count": 48,
      "outputs": [
        {
          "output_type": "stream",
          "text": [
            "author -> Dan Brown\n",
            "title -> Inferno\n",
            "------------------------------\n",
            "author -> Dan Brown\n",
            "title -> The Da Vinci Code\n",
            "year_of_publishment -> 2003\n",
            "------------------------------\n"
          ],
          "name": "stdout"
        }
      ]
    }
  ]
}